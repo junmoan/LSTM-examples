{
  "nbformat": 4,
  "nbformat_minor": 0,
  "metadata": {
    "colab": {
      "name": "One2Many_Many2Many_LSTM.ipynb",
      "provenance": [],
      "collapsed_sections": []
    },
    "kernelspec": {
      "name": "python3",
      "display_name": "Python 3"
    }
  },
  "cells": [
    {
      "cell_type": "code",
      "metadata": {
        "id": "Dph-NcesZqgP",
        "colab_type": "code",
        "colab": {}
      },
      "source": [
        "# Import the machine learning libraries.\n",
        "import pandas as pd\n",
        "import numpy as np\n",
        "from numpy import array\n",
        "import re\n",
        "\n",
        "from keras.preprocessing.text import one_hot\n",
        "from keras.preprocessing.sequence import pad_sequences\n",
        "from keras.models import Sequential\n",
        "from keras.layers.core import Activation, Dropout, Dense\n",
        "from keras.layers import Flatten, LSTM\n",
        "from keras.layers import GlobalMaxPooling1D\n",
        "from keras.models import Model\n",
        "from keras.layers.embeddings import Embedding\n",
        "from sklearn.model_selection import train_test_split\n",
        "from keras.preprocessing.text import Tokenizer\n",
        "from keras.layers import Input\n",
        "from keras.layers.merge import Concatenate\n",
        "from keras.layers import Bidirectional\n",
        "from keras.layers import RepeatVector\n",
        "from keras.layers import TimeDistributed\n",
        "\n",
        "import matplotlib.pyplot as plt"
      ],
      "execution_count": 155,
      "outputs": []
    },
    {
      "cell_type": "markdown",
      "metadata": {
        "id": "XiK3aVfFzW6W",
        "colab_type": "text"
      },
      "source": [
        "#One-to-Many Sequence Problems"
      ]
    },
    {
      "cell_type": "markdown",
      "metadata": {
        "id": "v0Xzj_y4bOuO",
        "colab_type": "text"
      },
      "source": [
        "###One-to-Many Sequence Problems with a Single Feature"
      ]
    },
    {
      "cell_type": "markdown",
      "metadata": {
        "id": "8ZSrhpvmzyFQ",
        "colab_type": "text"
      },
      "source": [
        "Creating the Dataset"
      ]
    },
    {
      "cell_type": "code",
      "metadata": {
        "id": "vmvNiG59ZzLa",
        "colab_type": "code",
        "colab": {
          "base_uri": "https://localhost:8080/",
          "height": 71
        },
        "outputId": "2e7f6e2e-8106-47c8-ce79-43c401acdeea"
      },
      "source": [
        "X = list()\n",
        "Y = list()\n",
        "X = [x+3 for x in range(-2, 43, 3)]\n",
        "\n",
        "for i in X:\n",
        "    output_vector = list()\n",
        "    output_vector.append(i+1)\n",
        "    output_vector.append(i+2)\n",
        "    Y.append(output_vector)\n",
        "\n",
        "print(X)\n",
        "print(Y)"
      ],
      "execution_count": 156,
      "outputs": [
        {
          "output_type": "stream",
          "text": [
            "[1, 4, 7, 10, 13, 16, 19, 22, 25, 28, 31, 34, 37, 40, 43]\n",
            "[[2, 3], [5, 6], [8, 9], [11, 12], [14, 15], [17, 18], [20, 21], [23, 24], [26, 27], [29, 30], [32, 33], [35, 36], [38, 39], [41, 42], [44, 45]]\n"
          ],
          "name": "stdout"
        }
      ]
    },
    {
      "cell_type": "code",
      "metadata": {
        "id": "r13M_S5Galj9",
        "colab_type": "code",
        "colab": {
          "base_uri": "https://localhost:8080/",
          "height": 34
        },
        "outputId": "93b26b46-b3f7-4993-c662-c9dfe1c37554"
      },
      "source": [
        "print(type(X), type(Y))"
      ],
      "execution_count": 157,
      "outputs": [
        {
          "output_type": "stream",
          "text": [
            "<class 'list'> <class 'list'>\n"
          ],
          "name": "stdout"
        }
      ]
    },
    {
      "cell_type": "code",
      "metadata": {
        "id": "0xzwfQI3au9r",
        "colab_type": "code",
        "colab": {}
      },
      "source": [
        "X = np.array(X).reshape(15, 1, 1)\n",
        "Y = np.asarray(Y)"
      ],
      "execution_count": 158,
      "outputs": []
    },
    {
      "cell_type": "code",
      "metadata": {
        "id": "WKT2E0DzbAgt",
        "colab_type": "code",
        "colab": {
          "base_uri": "https://localhost:8080/",
          "height": 34
        },
        "outputId": "20f73768-cbf1-425a-8f72-d11605937074"
      },
      "source": [
        "print(type(X), type(Y))"
      ],
      "execution_count": 159,
      "outputs": [
        {
          "output_type": "stream",
          "text": [
            "<class 'numpy.ndarray'> <class 'numpy.ndarray'>\n"
          ],
          "name": "stdout"
        }
      ]
    },
    {
      "cell_type": "markdown",
      "metadata": {
        "id": "KzRA5g8kz8_4",
        "colab_type": "text"
      },
      "source": [
        "Solution via Simple LSTM"
      ]
    },
    {
      "cell_type": "code",
      "metadata": {
        "id": "bET0_UQBaHU4",
        "colab_type": "code",
        "colab": {}
      },
      "source": [
        "model = Sequential()\n",
        "model.add(LSTM(50, activation='relu', input_shape=(1, 1)))\n",
        "model.add(Dense(2))\n",
        "model.compile(optimizer='adam', loss='mse')\n",
        "history = model.fit(X, Y, epochs=1000, validation_split=0.2, batch_size=3, verbose=False)"
      ],
      "execution_count": 160,
      "outputs": []
    },
    {
      "cell_type": "code",
      "metadata": {
        "id": "e1IIdpsWabDi",
        "colab_type": "code",
        "colab": {
          "base_uri": "https://localhost:8080/",
          "height": 312
        },
        "outputId": "6e8c1a89-96c7-41c4-fdc7-2ca31efb7fe9"
      },
      "source": [
        "# list all data in history\n",
        "print(history.history.keys())\n",
        "# summarize history for loss\n",
        "plt.plot(history.history['loss'])\n",
        "plt.plot(history.history['val_loss'])\n",
        "plt.title('model loss')\n",
        "plt.ylabel('loss')\n",
        "plt.xlabel('epoch')\n",
        "plt.legend(['train', 'test'], loc='upper right')\n",
        "plt.show()"
      ],
      "execution_count": 161,
      "outputs": [
        {
          "output_type": "stream",
          "text": [
            "dict_keys(['loss', 'val_loss'])\n"
          ],
          "name": "stdout"
        },
        {
          "output_type": "display_data",
          "data": {
            "image/png": "[encoded data removed]",
            "text/plain": [
              "<Figure size 432x288 with 1 Axes>"
            ]
          },
          "metadata": {
            "tags": [],
            "needs_background": "light"
          }
        }
      ]
    },
    {
      "cell_type": "code",
      "metadata": {
        "id": "EMpAWY7Bi5mZ",
        "colab_type": "code",
        "colab": {
          "base_uri": "https://localhost:8080/",
          "height": 71
        },
        "outputId": "467f97a0-77f3-4501-c8ee-f2a9f42b288a"
      },
      "source": [
        "test_input = array([10])\n",
        "test_input = test_input.reshape((1, 1, 1))\n",
        "test_output = model.predict(test_input, verbose=0)\n",
        "print(test_output)"
      ],
      "execution_count": 162,
      "outputs": [
        {
          "output_type": "stream",
          "text": [
            "WARNING:tensorflow:11 out of the last 11 calls to <function Model.make_predict_function.<locals>.predict_function at 0x7f5247f17840> triggered tf.function retracing. Tracing is expensive and the excessive number of tracings could be due to (1) creating @tf.function repeatedly in a loop, (2) passing tensors with different shapes, (3) passing Python objects instead of tensors. For (1), please define your @tf.function outside of the loop. For (2), @tf.function has experimental_relax_shapes=True option that relaxes argument shapes that can avoid unnecessary retracing. For (3), please refer to https://www.tensorflow.org/tutorials/customization/performance#python_or_tensor_args and https://www.tensorflow.org/api_docs/python/tf/function for  more details.\n",
            "[[10.998489 12.09827 ]]\n"
          ],
          "name": "stdout"
        }
      ]
    },
    {
      "cell_type": "markdown",
      "metadata": {
        "id": "NF09Z3dEtpob",
        "colab_type": "text"
      },
      "source": [
        "Solution via Stacked LSTM"
      ]
    },
    {
      "cell_type": "code",
      "metadata": {
        "id": "ixuNWk3btnhj",
        "colab_type": "code",
        "colab": {}
      },
      "source": [
        "model = Sequential()\n",
        "model.add(LSTM(50, activation='relu', return_sequences=True, input_shape=(1, 1)))\n",
        "model.add(LSTM(50, activation='relu'))\n",
        "model.add(Dense(2))\n",
        "model.compile(optimizer='adam', loss='mse')"
      ],
      "execution_count": 163,
      "outputs": []
    },
    {
      "cell_type": "code",
      "metadata": {
        "id": "EMAMBvuJtneJ",
        "colab_type": "code",
        "colab": {}
      },
      "source": [
        "history = model.fit(X, Y, epochs=1000, validation_split=0.2, verbose=False, batch_size=3)"
      ],
      "execution_count": 164,
      "outputs": []
    },
    {
      "cell_type": "code",
      "metadata": {
        "id": "gsE5HYhUuBNZ",
        "colab_type": "code",
        "colab": {
          "base_uri": "https://localhost:8080/",
          "height": 312
        },
        "outputId": "43e212dd-a5db-4309-f04f-97a8b7053861"
      },
      "source": [
        "# list all data in history\n",
        "print(history.history.keys())\n",
        "# summarize history for loss\n",
        "plt.plot(history.history['loss'])\n",
        "plt.plot(history.history['val_loss'])\n",
        "plt.title('model loss')\n",
        "plt.ylabel('loss')\n",
        "plt.xlabel('epoch')\n",
        "plt.legend(['train', 'test'], loc='upper right')\n",
        "plt.show()"
      ],
      "execution_count": 165,
      "outputs": [
        {
          "output_type": "stream",
          "text": [
            "dict_keys(['loss', 'val_loss'])\n"
          ],
          "name": "stdout"
        },
        {
          "output_type": "display_data",
          "data": {
            "image/png": "[encoded data removed]",
            "text/plain": [
              "<Figure size 432x288 with 1 Axes>"
            ]
          },
          "metadata": {
            "tags": [],
            "needs_background": "light"
          }
        }
      ]
    },
    {
      "cell_type": "code",
      "metadata": {
        "id": "dHfbK26yuGCk",
        "colab_type": "code",
        "colab": {
          "base_uri": "https://localhost:8080/",
          "height": 71
        },
        "outputId": "8d175b31-d8b7-4189-cfcc-9a20dfaa4849"
      },
      "source": [
        "test_input = array([10])\n",
        "test_input = test_input.reshape((1, 1, 1))\n",
        "test_output = model.predict(test_input, verbose=0)\n",
        "print(test_output)"
      ],
      "execution_count": 166,
      "outputs": [
        {
          "output_type": "stream",
          "text": [
            "WARNING:tensorflow:11 out of the last 11 calls to <function Model.make_predict_function.<locals>.predict_function at 0x7f52404d4488> triggered tf.function retracing. Tracing is expensive and the excessive number of tracings could be due to (1) creating @tf.function repeatedly in a loop, (2) passing tensors with different shapes, (3) passing Python objects instead of tensors. For (1), please define your @tf.function outside of the loop. For (2), @tf.function has experimental_relax_shapes=True option that relaxes argument shapes that can avoid unnecessary retracing. For (3), please refer to https://www.tensorflow.org/tutorials/customization/performance#python_or_tensor_args and https://www.tensorflow.org/api_docs/python/tf/function for  more details.\n",
            "[[11.009802 11.95721 ]]\n"
          ],
          "name": "stdout"
        }
      ]
    },
    {
      "cell_type": "markdown",
      "metadata": {
        "id": "mdDwu1GiuqvJ",
        "colab_type": "text"
      },
      "source": [
        "Solution via Bidirectional LSTM"
      ]
    },
    {
      "cell_type": "code",
      "metadata": {
        "id": "H769oNeguoL6",
        "colab_type": "code",
        "colab": {}
      },
      "source": [
        "model = Sequential()\n",
        "model.add(Bidirectional(LSTM(50, activation='relu'), input_shape=(1, 1)))\n",
        "model.add(Dense(2))\n",
        "model.compile(optimizer='adam', loss='mse')"
      ],
      "execution_count": 167,
      "outputs": []
    },
    {
      "cell_type": "code",
      "metadata": {
        "id": "tVIoCsLiu-sR",
        "colab_type": "code",
        "colab": {}
      },
      "source": [
        "history = model.fit(X, Y, epochs=1000, validation_split=0.2, verbose=False, batch_size=3)"
      ],
      "execution_count": 168,
      "outputs": []
    },
    {
      "cell_type": "code",
      "metadata": {
        "id": "DYM-_o1XvEZI",
        "colab_type": "code",
        "colab": {
          "base_uri": "https://localhost:8080/",
          "height": 312
        },
        "outputId": "1677509e-d8dc-4446-f118-6d63ed30143e"
      },
      "source": [
        "# list all data in history\n",
        "print(history.history.keys())\n",
        "# summarize history for loss\n",
        "plt.plot(history.history['loss'])\n",
        "plt.plot(history.history['val_loss'])\n",
        "plt.title('model loss')\n",
        "plt.ylabel('loss')\n",
        "plt.xlabel('epoch')\n",
        "plt.legend(['train', 'test'], loc='upper right')\n",
        "plt.show()"
      ],
      "execution_count": 169,
      "outputs": [
        {
          "output_type": "stream",
          "text": [
            "dict_keys(['loss', 'val_loss'])\n"
          ],
          "name": "stdout"
        },
        {
          "output_type": "display_data",
          "data": {
            "image/png": "[encoded data removed]",
            "text/plain": [
              "<Figure size 432x288 with 1 Axes>"
            ]
          },
          "metadata": {
            "tags": [],
            "needs_background": "light"
          }
        }
      ]
    },
    {
      "cell_type": "code",
      "metadata": {
        "id": "i8vZYrg8vEVA",
        "colab_type": "code",
        "colab": {
          "base_uri": "https://localhost:8080/",
          "height": 71
        },
        "outputId": "4d95ace1-0b41-4f0e-f3c4-1116bae9268f"
      },
      "source": [
        "test_input = array([10])\n",
        "test_input = test_input.reshape((1, 1, 1))\n",
        "test_output = model.predict(test_input, verbose=0)\n",
        "print(test_output)"
      ],
      "execution_count": 170,
      "outputs": [
        {
          "output_type": "stream",
          "text": [
            "WARNING:tensorflow:11 out of the last 11 calls to <function Model.make_predict_function.<locals>.predict_function at 0x7f5243d8f598> triggered tf.function retracing. Tracing is expensive and the excessive number of tracings could be due to (1) creating @tf.function repeatedly in a loop, (2) passing tensors with different shapes, (3) passing Python objects instead of tensors. For (1), please define your @tf.function outside of the loop. For (2), @tf.function has experimental_relax_shapes=True option that relaxes argument shapes that can avoid unnecessary retracing. For (3), please refer to https://www.tensorflow.org/tutorials/customization/performance#python_or_tensor_args and https://www.tensorflow.org/api_docs/python/tf/function for  more details.\n",
            "[[10.977404  12.0608835]]\n"
          ],
          "name": "stdout"
        }
      ]
    },
    {
      "cell_type": "markdown",
      "metadata": {
        "id": "2g8kHWg8uOtz",
        "colab_type": "text"
      },
      "source": [
        "###One-to-Many Sequence Problems with Multiple Features"
      ]
    },
    {
      "cell_type": "markdown",
      "metadata": {
        "id": "Sho30iqrAYQW",
        "colab_type": "text"
      },
      "source": [
        "Creating the Dataset"
      ]
    },
    {
      "cell_type": "code",
      "metadata": {
        "id": "BS06qfX-uF9R",
        "colab_type": "code",
        "colab": {
          "base_uri": "https://localhost:8080/",
          "height": 442
        },
        "outputId": "c3c07cc0-c435-4e97-e168-c5a32e8cf9cb"
      },
      "source": [
        "nums = 25\n",
        "\n",
        "X1 = list()\n",
        "X2 = list()\n",
        "X = list()\n",
        "Y = list()\n",
        "\n",
        "X1 = [(x+1)*2 for x in range(25)]\n",
        "X2 = [(x+1)*3 for x in range(25)]\n",
        "\n",
        "for x1, x2 in zip(X1, X2):\n",
        "    output_vector = list()\n",
        "    output_vector.append(x1+1)\n",
        "    output_vector.append(x2+1)\n",
        "    Y.append(output_vector)\n",
        "\n",
        "X = np.column_stack((X1, X2))\n",
        "print(X)"
      ],
      "execution_count": 171,
      "outputs": [
        {
          "output_type": "stream",
          "text": [
            "[[ 2  3]\n",
            " [ 4  6]\n",
            " [ 6  9]\n",
            " [ 8 12]\n",
            " [10 15]\n",
            " [12 18]\n",
            " [14 21]\n",
            " [16 24]\n",
            " [18 27]\n",
            " [20 30]\n",
            " [22 33]\n",
            " [24 36]\n",
            " [26 39]\n",
            " [28 42]\n",
            " [30 45]\n",
            " [32 48]\n",
            " [34 51]\n",
            " [36 54]\n",
            " [38 57]\n",
            " [40 60]\n",
            " [42 63]\n",
            " [44 66]\n",
            " [46 69]\n",
            " [48 72]\n",
            " [50 75]]\n"
          ],
          "name": "stdout"
        }
      ]
    },
    {
      "cell_type": "code",
      "metadata": {
        "id": "0ALrhX6iuF56",
        "colab_type": "code",
        "colab": {
          "base_uri": "https://localhost:8080/",
          "height": 442
        },
        "outputId": "53e41f69-d7b5-41e3-c364-7f32f173591b"
      },
      "source": [
        "X = np.array(X).reshape(25, 1, 2)\n",
        "Y = np.array(Y)\n",
        "print(Y)"
      ],
      "execution_count": 172,
      "outputs": [
        {
          "output_type": "stream",
          "text": [
            "[[ 3  4]\n",
            " [ 5  7]\n",
            " [ 7 10]\n",
            " [ 9 13]\n",
            " [11 16]\n",
            " [13 19]\n",
            " [15 22]\n",
            " [17 25]\n",
            " [19 28]\n",
            " [21 31]\n",
            " [23 34]\n",
            " [25 37]\n",
            " [27 40]\n",
            " [29 43]\n",
            " [31 46]\n",
            " [33 49]\n",
            " [35 52]\n",
            " [37 55]\n",
            " [39 58]\n",
            " [41 61]\n",
            " [43 64]\n",
            " [45 67]\n",
            " [47 70]\n",
            " [49 73]\n",
            " [51 76]]\n"
          ],
          "name": "stdout"
        }
      ]
    },
    {
      "cell_type": "code",
      "metadata": {
        "id": "fGAToWBcxK2m",
        "colab_type": "code",
        "colab": {
          "base_uri": "https://localhost:8080/",
          "height": 34
        },
        "outputId": "7410730a-ca0a-41f2-e6f1-5a34ab28e080"
      },
      "source": [
        "print(type(X), type(Y))"
      ],
      "execution_count": 173,
      "outputs": [
        {
          "output_type": "stream",
          "text": [
            "<class 'numpy.ndarray'> <class 'numpy.ndarray'>\n"
          ],
          "name": "stdout"
        }
      ]
    },
    {
      "cell_type": "markdown",
      "metadata": {
        "id": "mZO_DH6mA_yP",
        "colab_type": "text"
      },
      "source": [
        "Solution via Simple LSTM"
      ]
    },
    {
      "cell_type": "code",
      "metadata": {
        "id": "bAJq0Xm6ufCC",
        "colab_type": "code",
        "colab": {}
      },
      "source": [
        "model = Sequential()\n",
        "model.add(LSTM(50, activation='relu', input_shape=(1, 2)))\n",
        "model.add(Dense(2))\n",
        "model.compile(optimizer='adam', loss='mse')\n",
        "history = model.fit(X, Y, epochs=1000, validation_split=0.2, verbose=False, batch_size=3)"
      ],
      "execution_count": 174,
      "outputs": []
    },
    {
      "cell_type": "code",
      "metadata": {
        "id": "-8s0B-DywEat",
        "colab_type": "code",
        "colab": {
          "base_uri": "https://localhost:8080/",
          "height": 312
        },
        "outputId": "537d1117-a9f3-4a18-e94c-fd63977ec633"
      },
      "source": [
        "# list all data in history\n",
        "print(history.history.keys())\n",
        "# summarize history for loss\n",
        "plt.plot(history.history['loss'])\n",
        "plt.plot(history.history['val_loss'])\n",
        "plt.title('model loss')\n",
        "plt.ylabel('loss')\n",
        "plt.xlabel('epoch')\n",
        "plt.legend(['train', 'test'], loc='upper right')\n",
        "plt.show()"
      ],
      "execution_count": 175,
      "outputs": [
        {
          "output_type": "stream",
          "text": [
            "dict_keys(['loss', 'val_loss'])\n"
          ],
          "name": "stdout"
        },
        {
          "output_type": "display_data",
          "data": {
            "image/png": "[encoded data removed]",
            "text/plain": [
              "<Figure size 432x288 with 1 Axes>"
            ]
          },
          "metadata": {
            "tags": [],
            "needs_background": "light"
          }
        }
      ]
    },
    {
      "cell_type": "code",
      "metadata": {
        "id": "Wy9hm_hvuvPi",
        "colab_type": "code",
        "colab": {
          "base_uri": "https://localhost:8080/",
          "height": 71
        },
        "outputId": "d0af127e-cbb0-4c79-bb6d-2336e4ac5d8b"
      },
      "source": [
        "test_input = array([40, 60])\n",
        "test_input = test_input.reshape((1, 1, 2))\n",
        "test_output = model.predict(test_input, verbose=0)\n",
        "print(test_output)"
      ],
      "execution_count": 176,
      "outputs": [
        {
          "output_type": "stream",
          "text": [
            "WARNING:tensorflow:11 out of the last 11 calls to <function Model.make_predict_function.<locals>.predict_function at 0x7f52438f2f28> triggered tf.function retracing. Tracing is expensive and the excessive number of tracings could be due to (1) creating @tf.function repeatedly in a loop, (2) passing tensors with different shapes, (3) passing Python objects instead of tensors. For (1), please define your @tf.function outside of the loop. For (2), @tf.function has experimental_relax_shapes=True option that relaxes argument shapes that can avoid unnecessary retracing. For (3), please refer to https://www.tensorflow.org/tutorials/customization/performance#python_or_tensor_args and https://www.tensorflow.org/api_docs/python/tf/function for  more details.\n",
            "[[40.935028 61.05449 ]]\n"
          ],
          "name": "stdout"
        }
      ]
    },
    {
      "cell_type": "markdown",
      "metadata": {
        "id": "zSymWQh8u41C",
        "colab_type": "text"
      },
      "source": [
        "Solution via Stacked LSTM"
      ]
    },
    {
      "cell_type": "code",
      "metadata": {
        "id": "YFUmhUDUuvLQ",
        "colab_type": "code",
        "colab": {}
      },
      "source": [
        "model = Sequential()\n",
        "model.add(LSTM(50, activation='relu', return_sequences=True, input_shape=(1, 2)))\n",
        "model.add(LSTM(50, activation='relu'))\n",
        "model.add(Dense(2))\n",
        "model.compile(optimizer='adam', loss='mse')"
      ],
      "execution_count": 177,
      "outputs": []
    },
    {
      "cell_type": "code",
      "metadata": {
        "id": "fSzOEP45uvHc",
        "colab_type": "code",
        "colab": {}
      },
      "source": [
        "history = model.fit(X, Y, epochs=1000, validation_split=0.1, verbose=False, batch_size=3)"
      ],
      "execution_count": 178,
      "outputs": []
    },
    {
      "cell_type": "code",
      "metadata": {
        "id": "TqoZ-KekuvA3",
        "colab_type": "code",
        "colab": {
          "base_uri": "https://localhost:8080/",
          "height": 312
        },
        "outputId": "5998e578-65d6-4e81-80a7-d08215fd45e9"
      },
      "source": [
        "# list all data in history\n",
        "print(history.history.keys())\n",
        "# summarize history for loss\n",
        "plt.plot(history.history['loss'])\n",
        "plt.plot(history.history['val_loss'])\n",
        "plt.title('model loss')\n",
        "plt.ylabel('loss')\n",
        "plt.xlabel('epoch')\n",
        "plt.legend(['train', 'test'], loc='upper right')\n",
        "plt.show()"
      ],
      "execution_count": 179,
      "outputs": [
        {
          "output_type": "stream",
          "text": [
            "dict_keys(['loss', 'val_loss'])\n"
          ],
          "name": "stdout"
        },
        {
          "output_type": "display_data",
          "data": {
            "image/png": "[encoded data removed]",
            "text/plain": [
              "<Figure size 432x288 with 1 Axes>"
            ]
          },
          "metadata": {
            "tags": [],
            "needs_background": "light"
          }
        }
      ]
    },
    {
      "cell_type": "code",
      "metadata": {
        "id": "nzHu22jbBm1h",
        "colab_type": "code",
        "colab": {
          "base_uri": "https://localhost:8080/",
          "height": 71
        },
        "outputId": "7030b5d8-f7c8-4e75-9e20-0ac9e8aec1ff"
      },
      "source": [
        "test_input = array([40, 60])\n",
        "test_input = test_input.reshape((1, 1, 2))\n",
        "test_output = model.predict(test_input, verbose=0)\n",
        "print(test_output)"
      ],
      "execution_count": 180,
      "outputs": [
        {
          "output_type": "stream",
          "text": [
            "WARNING:tensorflow:11 out of the last 11 calls to <function Model.make_predict_function.<locals>.predict_function at 0x7f5241dc5510> triggered tf.function retracing. Tracing is expensive and the excessive number of tracings could be due to (1) creating @tf.function repeatedly in a loop, (2) passing tensors with different shapes, (3) passing Python objects instead of tensors. For (1), please define your @tf.function outside of the loop. For (2), @tf.function has experimental_relax_shapes=True option that relaxes argument shapes that can avoid unnecessary retracing. For (3), please refer to https://www.tensorflow.org/tutorials/customization/performance#python_or_tensor_args and https://www.tensorflow.org/api_docs/python/tf/function for  more details.\n",
            "[[40.993378 60.988556]]\n"
          ],
          "name": "stdout"
        }
      ]
    },
    {
      "cell_type": "markdown",
      "metadata": {
        "id": "jRISACkdytjT",
        "colab_type": "text"
      },
      "source": [
        "Soltuion via Bidirectional LSTM"
      ]
    },
    {
      "cell_type": "code",
      "metadata": {
        "id": "5AzMFx8QyuKp",
        "colab_type": "code",
        "colab": {}
      },
      "source": [
        "model = Sequential()\n",
        "model.add(Bidirectional(LSTM(50, activation='relu'), input_shape=(1, 2)))\n",
        "model.add(Dense(2))\n",
        "model.compile(optimizer='adam', loss='mse')"
      ],
      "execution_count": 181,
      "outputs": []
    },
    {
      "cell_type": "code",
      "metadata": {
        "id": "Kv9f0ITPyuHL",
        "colab_type": "code",
        "colab": {}
      },
      "source": [
        "history = model.fit(X, Y, epochs=1000, validation_split=0.2, verbose=False, batch_size=3)"
      ],
      "execution_count": 182,
      "outputs": []
    },
    {
      "cell_type": "code",
      "metadata": {
        "id": "I48mcb5ty7kt",
        "colab_type": "code",
        "colab": {
          "base_uri": "https://localhost:8080/",
          "height": 312
        },
        "outputId": "223fd054-ee44-4ac9-9c14-0dfc8a7b4690"
      },
      "source": [
        "# list all data in history\n",
        "print(history.history.keys())\n",
        "# summarize history for loss\n",
        "plt.plot(history.history['loss'])\n",
        "plt.plot(history.history['val_loss'])\n",
        "plt.title('model loss')\n",
        "plt.ylabel('loss')\n",
        "plt.xlabel('epoch')\n",
        "plt.legend(['train', 'test'], loc='upper right')\n",
        "plt.show()"
      ],
      "execution_count": 183,
      "outputs": [
        {
          "output_type": "stream",
          "text": [
            "dict_keys(['loss', 'val_loss'])\n"
          ],
          "name": "stdout"
        },
        {
          "output_type": "display_data",
          "data": {
            "image/png": "[encoded data removed]",
            "text/plain": [
              "<Figure size 432x288 with 1 Axes>"
            ]
          },
          "metadata": {
            "tags": [],
            "needs_background": "light"
          }
        }
      ]
    },
    {
      "cell_type": "code",
      "metadata": {
        "id": "YHqT-5fay7fD",
        "colab_type": "code",
        "colab": {
          "base_uri": "https://localhost:8080/",
          "height": 71
        },
        "outputId": "17aa4b53-a8c8-45ab-ae2f-c8a2cb388d6c"
      },
      "source": [
        "test_input = array([40, 60])\n",
        "test_input = test_input.reshape((1, 1, 2))\n",
        "test_output = model.predict(test_input, verbose=0)\n",
        "print(test_output)"
      ],
      "execution_count": 184,
      "outputs": [
        {
          "output_type": "stream",
          "text": [
            "WARNING:tensorflow:11 out of the last 11 calls to <function Model.make_predict_function.<locals>.predict_function at 0x7f5241d0d730> triggered tf.function retracing. Tracing is expensive and the excessive number of tracings could be due to (1) creating @tf.function repeatedly in a loop, (2) passing tensors with different shapes, (3) passing Python objects instead of tensors. For (1), please define your @tf.function outside of the loop. For (2), @tf.function has experimental_relax_shapes=True option that relaxes argument shapes that can avoid unnecessary retracing. For (3), please refer to https://www.tensorflow.org/tutorials/customization/performance#python_or_tensor_args and https://www.tensorflow.org/api_docs/python/tf/function for  more details.\n",
            "[[41.04448 61.05108]]\n"
          ],
          "name": "stdout"
        }
      ]
    },
    {
      "cell_type": "markdown",
      "metadata": {
        "id": "D5vsUFAHBuHd",
        "colab_type": "text"
      },
      "source": [
        "#Many-to-Many Sequence Problems"
      ]
    },
    {
      "cell_type": "markdown",
      "metadata": {
        "id": "mj2Y1GzRwL0C",
        "colab_type": "text"
      },
      "source": [
        "###Many-to-Many Sequence Problems with a Single Feature"
      ]
    },
    {
      "cell_type": "markdown",
      "metadata": {
        "id": "pynzuQk7Ccvd",
        "colab_type": "text"
      },
      "source": [
        "Creating the Dataset"
      ]
    },
    {
      "cell_type": "code",
      "metadata": {
        "id": "EjPePHS9uu8C",
        "colab_type": "code",
        "colab": {}
      },
      "source": [
        "X = list()\n",
        "Y = list()\n",
        "X = [x for x in range(5, 301, 5)]\n",
        "Y = [y for y in range(20, 316, 5)]\n",
        "\n",
        "X = np.array(X).reshape(20, 3, 1)\n",
        "Y = np.array(Y).reshape(20, 3, 1)"
      ],
      "execution_count": 185,
      "outputs": []
    },
    {
      "cell_type": "code",
      "metadata": {
        "id": "bEHFtwIdwRxg",
        "colab_type": "code",
        "colab": {
          "base_uri": "https://localhost:8080/",
          "height": 1000
        },
        "outputId": "d88e4465-ad9c-4623-ad50-ccd3350c855b"
      },
      "source": [
        "print(X)\n",
        "print(Y)"
      ],
      "execution_count": 186,
      "outputs": [
        {
          "output_type": "stream",
          "text": [
            "[[[  5]\n",
            "  [ 10]\n",
            "  [ 15]]\n",
            "\n",
            " [[ 20]\n",
            "  [ 25]\n",
            "  [ 30]]\n",
            "\n",
            " [[ 35]\n",
            "  [ 40]\n",
            "  [ 45]]\n",
            "\n",
            " [[ 50]\n",
            "  [ 55]\n",
            "  [ 60]]\n",
            "\n",
            " [[ 65]\n",
            "  [ 70]\n",
            "  [ 75]]\n",
            "\n",
            " [[ 80]\n",
            "  [ 85]\n",
            "  [ 90]]\n",
            "\n",
            " [[ 95]\n",
            "  [100]\n",
            "  [105]]\n",
            "\n",
            " [[110]\n",
            "  [115]\n",
            "  [120]]\n",
            "\n",
            " [[125]\n",
            "  [130]\n",
            "  [135]]\n",
            "\n",
            " [[140]\n",
            "  [145]\n",
            "  [150]]\n",
            "\n",
            " [[155]\n",
            "  [160]\n",
            "  [165]]\n",
            "\n",
            " [[170]\n",
            "  [175]\n",
            "  [180]]\n",
            "\n",
            " [[185]\n",
            "  [190]\n",
            "  [195]]\n",
            "\n",
            " [[200]\n",
            "  [205]\n",
            "  [210]]\n",
            "\n",
            " [[215]\n",
            "  [220]\n",
            "  [225]]\n",
            "\n",
            " [[230]\n",
            "  [235]\n",
            "  [240]]\n",
            "\n",
            " [[245]\n",
            "  [250]\n",
            "  [255]]\n",
            "\n",
            " [[260]\n",
            "  [265]\n",
            "  [270]]\n",
            "\n",
            " [[275]\n",
            "  [280]\n",
            "  [285]]\n",
            "\n",
            " [[290]\n",
            "  [295]\n",
            "  [300]]]\n",
            "[[[ 20]\n",
            "  [ 25]\n",
            "  [ 30]]\n",
            "\n",
            " [[ 35]\n",
            "  [ 40]\n",
            "  [ 45]]\n",
            "\n",
            " [[ 50]\n",
            "  [ 55]\n",
            "  [ 60]]\n",
            "\n",
            " [[ 65]\n",
            "  [ 70]\n",
            "  [ 75]]\n",
            "\n",
            " [[ 80]\n",
            "  [ 85]\n",
            "  [ 90]]\n",
            "\n",
            " [[ 95]\n",
            "  [100]\n",
            "  [105]]\n",
            "\n",
            " [[110]\n",
            "  [115]\n",
            "  [120]]\n",
            "\n",
            " [[125]\n",
            "  [130]\n",
            "  [135]]\n",
            "\n",
            " [[140]\n",
            "  [145]\n",
            "  [150]]\n",
            "\n",
            " [[155]\n",
            "  [160]\n",
            "  [165]]\n",
            "\n",
            " [[170]\n",
            "  [175]\n",
            "  [180]]\n",
            "\n",
            " [[185]\n",
            "  [190]\n",
            "  [195]]\n",
            "\n",
            " [[200]\n",
            "  [205]\n",
            "  [210]]\n",
            "\n",
            " [[215]\n",
            "  [220]\n",
            "  [225]]\n",
            "\n",
            " [[230]\n",
            "  [235]\n",
            "  [240]]\n",
            "\n",
            " [[245]\n",
            "  [250]\n",
            "  [255]]\n",
            "\n",
            " [[260]\n",
            "  [265]\n",
            "  [270]]\n",
            "\n",
            " [[275]\n",
            "  [280]\n",
            "  [285]]\n",
            "\n",
            " [[290]\n",
            "  [295]\n",
            "  [300]]\n",
            "\n",
            " [[305]\n",
            "  [310]\n",
            "  [315]]]\n"
          ],
          "name": "stdout"
        }
      ]
    },
    {
      "cell_type": "markdown",
      "metadata": {
        "id": "3bqHdgHtw3PX",
        "colab_type": "text"
      },
      "source": [
        "Solution via Stacked LSTM"
      ]
    },
    {
      "cell_type": "code",
      "metadata": {
        "id": "5aqEprWbwner",
        "colab_type": "code",
        "colab": {
          "base_uri": "https://localhost:8080/",
          "height": 306
        },
        "outputId": "9e8100b1-5612-467b-af40-377b9a10ad64"
      },
      "source": [
        "model = Sequential()\n",
        "\n",
        "# encoder layer\n",
        "model.add(LSTM(100, activation='relu', input_shape=(3, 1)))\n",
        "\n",
        "# repeat vector\n",
        "model.add(RepeatVector(3))\n",
        "\n",
        "# decoder layer\n",
        "model.add(LSTM(100, activation='relu', return_sequences=True))\n",
        "\n",
        "model.add(TimeDistributed(Dense(1)))\n",
        "model.compile(optimizer='adam', loss='mse')\n",
        "\n",
        "print(model.summary())"
      ],
      "execution_count": 187,
      "outputs": [
        {
          "output_type": "stream",
          "text": [
            "Model: \"sequential_39\"\n",
            "_________________________________________________________________\n",
            "Layer (type)                 Output Shape              Param #   \n",
            "=================================================================\n",
            "lstm_60 (LSTM)               (None, 100)               40800     \n",
            "_________________________________________________________________\n",
            "repeat_vector_12 (RepeatVect (None, 3, 100)            0         \n",
            "_________________________________________________________________\n",
            "lstm_61 (LSTM)               (None, 3, 100)            80400     \n",
            "_________________________________________________________________\n",
            "time_distributed_12 (TimeDis (None, 3, 1)              101       \n",
            "=================================================================\n",
            "Total params: 121,301\n",
            "Trainable params: 121,301\n",
            "Non-trainable params: 0\n",
            "_________________________________________________________________\n",
            "None\n"
          ],
          "name": "stdout"
        }
      ]
    },
    {
      "cell_type": "code",
      "metadata": {
        "id": "DelOejJBDM7y",
        "colab_type": "code",
        "colab": {}
      },
      "source": [
        "history = model.fit(X, Y, epochs=1000, validation_split=0.2, verbose=False, batch_size=3)"
      ],
      "execution_count": 188,
      "outputs": []
    },
    {
      "cell_type": "code",
      "metadata": {
        "id": "z3Ot3zhYwnYf",
        "colab_type": "code",
        "colab": {
          "base_uri": "https://localhost:8080/",
          "height": 312
        },
        "outputId": "8d4e8287-4f30-4330-a686-a72bc5723934"
      },
      "source": [
        "# list all data in history\n",
        "print(history.history.keys())\n",
        "# summarize history for loss\n",
        "plt.plot(history.history['loss'])\n",
        "plt.plot(history.history['val_loss'])\n",
        "plt.title('model loss')\n",
        "plt.ylabel('loss')\n",
        "plt.xlabel('epoch')\n",
        "plt.legend(['train', 'test'], loc='upper right')\n",
        "plt.show()"
      ],
      "execution_count": 189,
      "outputs": [
        {
          "output_type": "stream",
          "text": [
            "dict_keys(['loss', 'val_loss'])\n"
          ],
          "name": "stdout"
        },
        {
          "output_type": "display_data",
          "data": {
            "image/png": "[encoded data removed]",
            "text/plain": [
              "<Figure size 432x288 with 1 Axes>"
            ]
          },
          "metadata": {
            "tags": [],
            "needs_background": "light"
          }
        }
      ]
    },
    {
      "cell_type": "code",
      "metadata": {
        "id": "kMGbAIcqwnVs",
        "colab_type": "code",
        "colab": {
          "base_uri": "https://localhost:8080/",
          "height": 105
        },
        "outputId": "ec70a078-e923-47c8-bb17-a3946cd07797"
      },
      "source": [
        "test_input = array([300, 305, 310])\n",
        "test_input = test_input.reshape((1, 3, 1))\n",
        "test_output = model.predict(test_input, verbose=0)\n",
        "print(test_output)"
      ],
      "execution_count": 190,
      "outputs": [
        {
          "output_type": "stream",
          "text": [
            "WARNING:tensorflow:11 out of the last 11 calls to <function Model.make_predict_function.<locals>.predict_function at 0x7f523e690c80> triggered tf.function retracing. Tracing is expensive and the excessive number of tracings could be due to (1) creating @tf.function repeatedly in a loop, (2) passing tensors with different shapes, (3) passing Python objects instead of tensors. For (1), please define your @tf.function outside of the loop. For (2), @tf.function has experimental_relax_shapes=True option that relaxes argument shapes that can avoid unnecessary retracing. For (3), please refer to https://www.tensorflow.org/tutorials/customization/performance#python_or_tensor_args and https://www.tensorflow.org/api_docs/python/tf/function for  more details.\n",
            "[[[315.49863]\n",
            "  [321.66064]\n",
            "  [327.36615]]]\n"
          ],
          "name": "stdout"
        }
      ]
    },
    {
      "cell_type": "markdown",
      "metadata": {
        "id": "Q7KO62HaxG_P",
        "colab_type": "text"
      },
      "source": [
        "Solution via Bidirectional LSTM"
      ]
    },
    {
      "cell_type": "code",
      "metadata": {
        "id": "durdsqmnQYym",
        "colab_type": "code",
        "colab": {}
      },
      "source": [
        "# To avoid type error.\n",
        "X = X.astype(np.float32)\n",
        "Y = Y.astype(np.float32)"
      ],
      "execution_count": 197,
      "outputs": []
    },
    {
      "cell_type": "code",
      "metadata": {
        "id": "H6Rths0IxDaR",
        "colab_type": "code",
        "colab": {}
      },
      "source": [
        "model = Sequential()\n",
        "model.add(Bidirectional(LSTM(100, activation='relu', input_shape=(3, 1))))\n",
        "model.add(RepeatVector(3))\n",
        "model.add(Bidirectional(LSTM(100, activation='relu', return_sequences=True)))\n",
        "model.add(TimeDistributed(Dense(1)))\n",
        "model.compile(optimizer='adam', loss='mse')\n",
        "#print(model.summary())"
      ],
      "execution_count": 198,
      "outputs": []
    },
    {
      "cell_type": "code",
      "metadata": {
        "id": "MITfm3-0xDs4",
        "colab_type": "code",
        "colab": {}
      },
      "source": [
        "history = model.fit(X, Y, epochs=1000, validation_split=0.2, verbose=False, batch_size=3)"
      ],
      "execution_count": 199,
      "outputs": []
    },
    {
      "cell_type": "code",
      "metadata": {
        "id": "2BTRKK0OxNLi",
        "colab_type": "code",
        "colab": {
          "base_uri": "https://localhost:8080/",
          "height": 312
        },
        "outputId": "ac6defa3-d8e6-45e2-ac7b-0bd7e2f2aef7"
      },
      "source": [
        "# list all data in history\n",
        "print(history.history.keys())\n",
        "# summarize history for loss\n",
        "plt.plot(history.history['loss'])\n",
        "plt.plot(history.history['val_loss'])\n",
        "plt.title('model loss')\n",
        "plt.ylabel('loss')\n",
        "plt.xlabel('epoch')\n",
        "plt.legend(['train', 'test'], loc='upper right')\n",
        "plt.show()"
      ],
      "execution_count": 200,
      "outputs": [
        {
          "output_type": "stream",
          "text": [
            "dict_keys(['loss', 'val_loss'])\n"
          ],
          "name": "stdout"
        },
        {
          "output_type": "display_data",
          "data": {
            "image/png": "[encoded data removed]",
            "text/plain": [
              "<Figure size 432x288 with 1 Axes>"
            ]
          },
          "metadata": {
            "tags": [],
            "needs_background": "light"
          }
        }
      ]
    },
    {
      "cell_type": "code",
      "metadata": {
        "id": "-mI4ABr3DWUp",
        "colab_type": "code",
        "colab": {
          "base_uri": "https://localhost:8080/",
          "height": 105
        },
        "outputId": "dd140c53-8d0f-40d3-ed3f-e7eade7bafa6"
      },
      "source": [
        "test_input = array([300, 305, 310])\n",
        "test_input = test_input.reshape((1, 3, 1))\n",
        "test_output = model.predict(test_input, verbose=0)\n",
        "print(test_output)"
      ],
      "execution_count": 201,
      "outputs": [
        {
          "output_type": "stream",
          "text": [
            "WARNING:tensorflow:11 out of the last 11 calls to <function Model.make_predict_function.<locals>.predict_function at 0x7f523ee9aa60> triggered tf.function retracing. Tracing is expensive and the excessive number of tracings could be due to (1) creating @tf.function repeatedly in a loop, (2) passing tensors with different shapes, (3) passing Python objects instead of tensors. For (1), please define your @tf.function outside of the loop. For (2), @tf.function has experimental_relax_shapes=True option that relaxes argument shapes that can avoid unnecessary retracing. For (3), please refer to https://www.tensorflow.org/tutorials/customization/performance#python_or_tensor_args and https://www.tensorflow.org/api_docs/python/tf/function for  more details.\n",
            "[[[315.17596]\n",
            "  [320.84216]\n",
            "  [326.3512 ]]]\n"
          ],
          "name": "stdout"
        }
      ]
    },
    {
      "cell_type": "markdown",
      "metadata": {
        "id": "W6N-XWg6xRy6",
        "colab_type": "text"
      },
      "source": [
        "###Many-to-Many Sequence Problems with Multiple Features"
      ]
    },
    {
      "cell_type": "markdown",
      "metadata": {
        "id": "mgNi7Lstxab_",
        "colab_type": "text"
      },
      "source": [
        "Creating the Dataset"
      ]
    },
    {
      "cell_type": "code",
      "metadata": {
        "id": "E_OoPtSCxNRY",
        "colab_type": "code",
        "colab": {}
      },
      "source": [
        "X = list()\n",
        "Y = list()\n",
        "X1 = [x1 for x1 in range(5, 301, 5)]\n",
        "X2 = [x2 for x2 in range(20, 316, 5)]\n",
        "Y = [y for y in range(35, 331, 5)]\n",
        "\n",
        "X = np.column_stack((X1, X2))"
      ],
      "execution_count": 202,
      "outputs": []
    },
    {
      "cell_type": "code",
      "metadata": {
        "id": "3mi8aoc3xDpS",
        "colab_type": "code",
        "colab": {}
      },
      "source": [
        "X = np.array(X).reshape(20, 3, 2)\n",
        "Y = np.array(Y).reshape(20, 3, 1)"
      ],
      "execution_count": 203,
      "outputs": []
    },
    {
      "cell_type": "code",
      "metadata": {
        "id": "qv6OJS9TxDlp",
        "colab_type": "code",
        "colab": {
          "base_uri": "https://localhost:8080/",
          "height": 1000
        },
        "outputId": "fe72e52c-7092-4bb0-be52-b17727477f64"
      },
      "source": [
        "print(X)\n",
        "print(Y)"
      ],
      "execution_count": 204,
      "outputs": [
        {
          "output_type": "stream",
          "text": [
            "[[[  5  20]\n",
            "  [ 10  25]\n",
            "  [ 15  30]]\n",
            "\n",
            " [[ 20  35]\n",
            "  [ 25  40]\n",
            "  [ 30  45]]\n",
            "\n",
            " [[ 35  50]\n",
            "  [ 40  55]\n",
            "  [ 45  60]]\n",
            "\n",
            " [[ 50  65]\n",
            "  [ 55  70]\n",
            "  [ 60  75]]\n",
            "\n",
            " [[ 65  80]\n",
            "  [ 70  85]\n",
            "  [ 75  90]]\n",
            "\n",
            " [[ 80  95]\n",
            "  [ 85 100]\n",
            "  [ 90 105]]\n",
            "\n",
            " [[ 95 110]\n",
            "  [100 115]\n",
            "  [105 120]]\n",
            "\n",
            " [[110 125]\n",
            "  [115 130]\n",
            "  [120 135]]\n",
            "\n",
            " [[125 140]\n",
            "  [130 145]\n",
            "  [135 150]]\n",
            "\n",
            " [[140 155]\n",
            "  [145 160]\n",
            "  [150 165]]\n",
            "\n",
            " [[155 170]\n",
            "  [160 175]\n",
            "  [165 180]]\n",
            "\n",
            " [[170 185]\n",
            "  [175 190]\n",
            "  [180 195]]\n",
            "\n",
            " [[185 200]\n",
            "  [190 205]\n",
            "  [195 210]]\n",
            "\n",
            " [[200 215]\n",
            "  [205 220]\n",
            "  [210 225]]\n",
            "\n",
            " [[215 230]\n",
            "  [220 235]\n",
            "  [225 240]]\n",
            "\n",
            " [[230 245]\n",
            "  [235 250]\n",
            "  [240 255]]\n",
            "\n",
            " [[245 260]\n",
            "  [250 265]\n",
            "  [255 270]]\n",
            "\n",
            " [[260 275]\n",
            "  [265 280]\n",
            "  [270 285]]\n",
            "\n",
            " [[275 290]\n",
            "  [280 295]\n",
            "  [285 300]]\n",
            "\n",
            " [[290 305]\n",
            "  [295 310]\n",
            "  [300 315]]]\n",
            "[[[ 35]\n",
            "  [ 40]\n",
            "  [ 45]]\n",
            "\n",
            " [[ 50]\n",
            "  [ 55]\n",
            "  [ 60]]\n",
            "\n",
            " [[ 65]\n",
            "  [ 70]\n",
            "  [ 75]]\n",
            "\n",
            " [[ 80]\n",
            "  [ 85]\n",
            "  [ 90]]\n",
            "\n",
            " [[ 95]\n",
            "  [100]\n",
            "  [105]]\n",
            "\n",
            " [[110]\n",
            "  [115]\n",
            "  [120]]\n",
            "\n",
            " [[125]\n",
            "  [130]\n",
            "  [135]]\n",
            "\n",
            " [[140]\n",
            "  [145]\n",
            "  [150]]\n",
            "\n",
            " [[155]\n",
            "  [160]\n",
            "  [165]]\n",
            "\n",
            " [[170]\n",
            "  [175]\n",
            "  [180]]\n",
            "\n",
            " [[185]\n",
            "  [190]\n",
            "  [195]]\n",
            "\n",
            " [[200]\n",
            "  [205]\n",
            "  [210]]\n",
            "\n",
            " [[215]\n",
            "  [220]\n",
            "  [225]]\n",
            "\n",
            " [[230]\n",
            "  [235]\n",
            "  [240]]\n",
            "\n",
            " [[245]\n",
            "  [250]\n",
            "  [255]]\n",
            "\n",
            " [[260]\n",
            "  [265]\n",
            "  [270]]\n",
            "\n",
            " [[275]\n",
            "  [280]\n",
            "  [285]]\n",
            "\n",
            " [[290]\n",
            "  [295]\n",
            "  [300]]\n",
            "\n",
            " [[305]\n",
            "  [310]\n",
            "  [315]]\n",
            "\n",
            " [[320]\n",
            "  [325]\n",
            "  [330]]]\n"
          ],
          "name": "stdout"
        }
      ]
    },
    {
      "cell_type": "markdown",
      "metadata": {
        "id": "F8Saeo_0xwMT",
        "colab_type": "text"
      },
      "source": [
        "Solution via Stacked LSTM"
      ]
    },
    {
      "cell_type": "code",
      "metadata": {
        "id": "khLXD2FvxDef",
        "colab_type": "code",
        "colab": {}
      },
      "source": [
        "model = Sequential()\n",
        "model.add(LSTM(100, activation='relu', input_shape=(3, 2)))\n",
        "model.add(RepeatVector(3))\n",
        "model.add(LSTM(100, activation='relu', return_sequences=True))\n",
        "model.add(TimeDistributed(Dense(1)))\n",
        "model.compile(optimizer='adam', loss='mse')"
      ],
      "execution_count": 205,
      "outputs": []
    },
    {
      "cell_type": "code",
      "metadata": {
        "id": "TakVlGtSDwqT",
        "colab_type": "code",
        "colab": {}
      },
      "source": [
        "history = model.fit(X, Y, epochs=1000, validation_split=0.2, verbose=False, batch_size=3)"
      ],
      "execution_count": 206,
      "outputs": []
    },
    {
      "cell_type": "code",
      "metadata": {
        "id": "VdYFlUc7Dz1f",
        "colab_type": "code",
        "colab": {
          "base_uri": "https://localhost:8080/",
          "height": 312
        },
        "outputId": "dbdc25ec-5882-4902-9a47-5d074ca16d60"
      },
      "source": [
        "# list all data in history\n",
        "print(history.history.keys())\n",
        "# summarize history for loss\n",
        "plt.plot(history.history['loss'])\n",
        "plt.plot(history.history['val_loss'])\n",
        "plt.title('model loss')\n",
        "plt.ylabel('loss')\n",
        "plt.xlabel('epoch')\n",
        "plt.legend(['train', 'test'], loc='upper right')\n",
        "plt.show()"
      ],
      "execution_count": 207,
      "outputs": [
        {
          "output_type": "stream",
          "text": [
            "dict_keys(['loss', 'val_loss'])\n"
          ],
          "name": "stdout"
        },
        {
          "output_type": "display_data",
          "data": {
            "image/png": "[encoded data removed]",
            "text/plain": [
              "<Figure size 432x288 with 1 Axes>"
            ]
          },
          "metadata": {
            "tags": [],
            "needs_background": "light"
          }
        }
      ]
    },
    {
      "cell_type": "code",
      "metadata": {
        "id": "Jz1ghl8zx4I9",
        "colab_type": "code",
        "colab": {
          "base_uri": "https://localhost:8080/",
          "height": 68
        },
        "outputId": "70b586f6-cf9f-469e-f275-1479d98d0ea2"
      },
      "source": [
        "X1 = [300, 305, 310]\n",
        "X2 = [315, 320, 325]\n",
        "\n",
        "test_input = np.column_stack((X1, X2))\n",
        "\n",
        "test_input = test_input.reshape((1, 3, 2))\n",
        "print(test_input)"
      ],
      "execution_count": 208,
      "outputs": [
        {
          "output_type": "stream",
          "text": [
            "[[[300 315]\n",
            "  [305 320]\n",
            "  [310 325]]]\n"
          ],
          "name": "stdout"
        }
      ]
    },
    {
      "cell_type": "code",
      "metadata": {
        "id": "SmBWs0HO5gUX",
        "colab_type": "code",
        "colab": {
          "base_uri": "https://localhost:8080/",
          "height": 105
        },
        "outputId": "75716dbf-95dc-40ef-df58-826c5da69c99"
      },
      "source": [
        "test_output = model.predict(test_input, verbose=0)\n",
        "print(test_output)"
      ],
      "execution_count": 209,
      "outputs": [
        {
          "output_type": "stream",
          "text": [
            "WARNING:tensorflow:11 out of the last 11 calls to <function Model.make_predict_function.<locals>.predict_function at 0x7f5247613ea0> triggered tf.function retracing. Tracing is expensive and the excessive number of tracings could be due to (1) creating @tf.function repeatedly in a loop, (2) passing tensors with different shapes, (3) passing Python objects instead of tensors. For (1), please define your @tf.function outside of the loop. For (2), @tf.function has experimental_relax_shapes=True option that relaxes argument shapes that can avoid unnecessary retracing. For (3), please refer to https://www.tensorflow.org/tutorials/customization/performance#python_or_tensor_args and https://www.tensorflow.org/api_docs/python/tf/function for  more details.\n",
            "[[[332.0999 ]\n",
            "  [337.72214]\n",
            "  [343.87   ]]]\n"
          ],
          "name": "stdout"
        }
      ]
    },
    {
      "cell_type": "markdown",
      "metadata": {
        "id": "HfF4COPOybYE",
        "colab_type": "text"
      },
      "source": [
        "Solution via Bidirectional LSTM"
      ]
    },
    {
      "cell_type": "code",
      "metadata": {
        "id": "b_xgqtkHRNoz",
        "colab_type": "code",
        "colab": {}
      },
      "source": [
        "# To avoid type error.\n",
        "X = X.astype(np.float32)\n",
        "Y = Y.astype(np.float32)"
      ],
      "execution_count": 212,
      "outputs": []
    },
    {
      "cell_type": "code",
      "metadata": {
        "id": "MrXeCjDOx4sH",
        "colab_type": "code",
        "colab": {}
      },
      "source": [
        "model = Sequential()\n",
        "model.add(Bidirectional(LSTM(100, activation='relu', input_shape=(3, 2))))\n",
        "model.add(RepeatVector(3))\n",
        "model.add(Bidirectional(LSTM(100, activation='relu', return_sequences=True)))\n",
        "model.add(TimeDistributed(Dense(1)))\n",
        "model.compile(optimizer='adam', loss='mse')"
      ],
      "execution_count": 213,
      "outputs": []
    },
    {
      "cell_type": "code",
      "metadata": {
        "id": "dHp55EnDD52R",
        "colab_type": "code",
        "colab": {}
      },
      "source": [
        "history = model.fit(X, Y, epochs=1000, validation_split=0.2, verbose=False, batch_size=3)"
      ],
      "execution_count": 214,
      "outputs": []
    },
    {
      "cell_type": "code",
      "metadata": {
        "id": "ball0cQYx4pe",
        "colab_type": "code",
        "colab": {
          "base_uri": "https://localhost:8080/",
          "height": 312
        },
        "outputId": "b28b4eec-6215-4be3-9dc7-d2b215fdf4f9"
      },
      "source": [
        "# list all data in history\n",
        "print(history.history.keys())\n",
        "# summarize history for loss\n",
        "plt.plot(history.history['loss'])\n",
        "plt.plot(history.history['val_loss'])\n",
        "plt.title('model loss')\n",
        "plt.ylabel('loss')\n",
        "plt.xlabel('epoch')\n",
        "plt.legend(['train', 'test'], loc='upper right')\n",
        "plt.show()"
      ],
      "execution_count": 215,
      "outputs": [
        {
          "output_type": "stream",
          "text": [
            "dict_keys(['loss', 'val_loss'])\n"
          ],
          "name": "stdout"
        },
        {
          "output_type": "display_data",
          "data": {
            "image/png": "[encoded data removed]",
            "text/plain": [
              "<Figure size 432x288 with 1 Axes>"
            ]
          },
          "metadata": {
            "tags": [],
            "needs_background": "light"
          }
        }
      ]
    },
    {
      "cell_type": "code",
      "metadata": {
        "id": "viul0jHHx4lk",
        "colab_type": "code",
        "colab": {
          "base_uri": "https://localhost:8080/",
          "height": 68
        },
        "outputId": "4eb0ed0d-44de-4536-c00c-5d76cf580178"
      },
      "source": [
        "X1 = [300, 305, 310]\n",
        "X2 = [315, 320, 325]\n",
        "\n",
        "test_input = np.column_stack((X1, X2))\n",
        "\n",
        "test_input = test_input.reshape((1, 3, 2))\n",
        "print(test_input)"
      ],
      "execution_count": 216,
      "outputs": [
        {
          "output_type": "stream",
          "text": [
            "[[[300 315]\n",
            "  [305 320]\n",
            "  [310 325]]]\n"
          ],
          "name": "stdout"
        }
      ]
    },
    {
      "cell_type": "code",
      "metadata": {
        "id": "uBCFUsFS55-4",
        "colab_type": "code",
        "colab": {
          "base_uri": "https://localhost:8080/",
          "height": 105
        },
        "outputId": "eb7a230e-2164-4e7f-de30-fe9b7a981b85"
      },
      "source": [
        "test_output = model.predict(test_input, verbose=0)\n",
        "print(test_output)"
      ],
      "execution_count": 217,
      "outputs": [
        {
          "output_type": "stream",
          "text": [
            "WARNING:tensorflow:11 out of the last 11 calls to <function Model.make_predict_function.<locals>.predict_function at 0x7f5242e4d400> triggered tf.function retracing. Tracing is expensive and the excessive number of tracings could be due to (1) creating @tf.function repeatedly in a loop, (2) passing tensors with different shapes, (3) passing Python objects instead of tensors. For (1), please define your @tf.function outside of the loop. For (2), @tf.function has experimental_relax_shapes=True option that relaxes argument shapes that can avoid unnecessary retracing. For (3), please refer to https://www.tensorflow.org/tutorials/customization/performance#python_or_tensor_args and https://www.tensorflow.org/api_docs/python/tf/function for  more details.\n",
            "[[[332.94028]\n",
            "  [338.5943 ]\n",
            "  [344.42947]]]\n"
          ],
          "name": "stdout"
        }
      ]
    },
    {
      "cell_type": "code",
      "metadata": {
        "id": "Aey-FaClsaHN",
        "colab_type": "code",
        "colab": {}
      },
      "source": [
        ""
      ],
      "execution_count": null,
      "outputs": []
    }
  ]
}