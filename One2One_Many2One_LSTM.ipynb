{
  "nbformat": 4,
  "nbformat_minor": 0,
  "metadata": {
    "colab": {
      "name": "One2One_Many2One_LSTM.ipynb",
      "provenance": [],
      "collapsed_sections": []
    },
    "kernelspec": {
      "name": "python3",
      "display_name": "Python 3"
    }
  },
  "cells": [
    {
      "cell_type": "code",
      "metadata": {
        "id": "Dph-NcesZqgP",
        "colab_type": "code",
        "colab": {}
      },
      "source": [
        "# Import the machine learning libraries.\n",
        "from numpy import array\n",
        "from keras.preprocessing.text import one_hot\n",
        "from keras.preprocessing.sequence import pad_sequences\n",
        "from keras.models import Sequential\n",
        "from keras.layers.core import Activation, Dropout, Dense\n",
        "from keras.layers import Flatten, LSTM\n",
        "from keras.layers import GlobalMaxPooling1D\n",
        "from keras.models import Model\n",
        "from keras.layers.embeddings import Embedding\n",
        "from sklearn.model_selection import train_test_split\n",
        "from keras.preprocessing.text import Tokenizer\n",
        "from keras.layers import Input\n",
        "from keras.layers.merge import Concatenate\n",
        "from keras.layers import Bidirectional\n",
        "\n",
        "import pandas as pd\n",
        "import numpy as np\n",
        "import re\n",
        "\n",
        "import matplotlib.pyplot as plt"
      ],
      "execution_count": 1,
      "outputs": []
    },
    {
      "cell_type": "markdown",
      "metadata": {
        "id": "XiK3aVfFzW6W",
        "colab_type": "text"
      },
      "source": [
        "#One-to-One Sequence Problems"
      ]
    },
    {
      "cell_type": "markdown",
      "metadata": {
        "id": "v0Xzj_y4bOuO",
        "colab_type": "text"
      },
      "source": [
        "###One-to-One Sequence Problems with a Single Feature"
      ]
    },
    {
      "cell_type": "markdown",
      "metadata": {
        "id": "8ZSrhpvmzyFQ",
        "colab_type": "text"
      },
      "source": [
        "Creating the Dataset"
      ]
    },
    {
      "cell_type": "code",
      "metadata": {
        "id": "vmvNiG59ZzLa",
        "colab_type": "code",
        "colab": {
          "base_uri": "https://localhost:8080/",
          "height": 71
        },
        "outputId": "fb35c0e3-51c0-4345-9833-90d9cc451c3a"
      },
      "source": [
        "X = list()\n",
        "Y = list()\n",
        "data_length = 30\n",
        "X = [x+1 for x in range(data_length)]\n",
        "Y = [y * 15 for y in X]\n",
        "\n",
        "print(X)\n",
        "print(Y)"
      ],
      "execution_count": 2,
      "outputs": [
        {
          "output_type": "stream",
          "text": [
            "[1, 2, 3, 4, 5, 6, 7, 8, 9, 10, 11, 12, 13, 14, 15, 16, 17, 18, 19, 20, 21, 22, 23, 24, 25, 26, 27, 28, 29, 30]\n",
            "[15, 30, 45, 60, 75, 90, 105, 120, 135, 150, 165, 180, 195, 210, 225, 240, 255, 270, 285, 300, 315, 330, 345, 360, 375, 390, 405, 420, 435, 450]\n"
          ],
          "name": "stdout"
        }
      ]
    },
    {
      "cell_type": "code",
      "metadata": {
        "id": "MYgjNwyvdJY6",
        "colab_type": "code",
        "colab": {
          "base_uri": "https://localhost:8080/",
          "height": 256
        },
        "outputId": "10bf7d5f-23c1-49bd-a0ac-8b9c8b313d97"
      },
      "source": [
        "plt.style.use('ggplot')\n",
        "plt.figure(figsize=(16, 4))\n",
        "plt.plot(X, label=\"X\")\n",
        "plt.plot(Y, label=\"Y\")\n",
        "plt.legend()"
      ],
      "execution_count": 3,
      "outputs": [
        {
          "output_type": "execute_result",
          "data": {
            "text/plain": [
              "<matplotlib.legend.Legend at 0x7f20b86994a8>"
            ]
          },
          "metadata": {
            "tags": []
          },
          "execution_count": 3
        },
        {
          "output_type": "display_data",
          "data": {
            "image/png": "[encoded data removed]",
            "text/plain": [
              "<Figure size 1152x288 with 1 Axes>"
            ]
          },
          "metadata": {
            "tags": []
          }
        }
      ]
    },
    {
      "cell_type": "code",
      "metadata": {
        "id": "r13M_S5Galj9",
        "colab_type": "code",
        "colab": {
          "base_uri": "https://localhost:8080/",
          "height": 34
        },
        "outputId": "456abe4d-96fb-42a9-e295-877fa8c6be90"
      },
      "source": [
        "print(type(X), type(Y))"
      ],
      "execution_count": 4,
      "outputs": [
        {
          "output_type": "stream",
          "text": [
            "<class 'list'> <class 'list'>\n"
          ],
          "name": "stdout"
        }
      ]
    },
    {
      "cell_type": "code",
      "metadata": {
        "id": "0xzwfQI3au9r",
        "colab_type": "code",
        "colab": {}
      },
      "source": [
        "Y = np.asarray(Y)"
      ],
      "execution_count": 5,
      "outputs": []
    },
    {
      "cell_type": "code",
      "metadata": {
        "id": "WKT2E0DzbAgt",
        "colab_type": "code",
        "colab": {
          "base_uri": "https://localhost:8080/",
          "height": 34
        },
        "outputId": "224a9872-68fe-4ee9-a046-8da17754b326"
      },
      "source": [
        "print(type(X), type(Y))"
      ],
      "execution_count": 6,
      "outputs": [
        {
          "output_type": "stream",
          "text": [
            "<class 'list'> <class 'numpy.ndarray'>\n"
          ],
          "name": "stdout"
        }
      ]
    },
    {
      "cell_type": "code",
      "metadata": {
        "id": "nDdGbd0GZ36H",
        "colab_type": "code",
        "colab": {
          "base_uri": "https://localhost:8080/",
          "height": 34
        },
        "outputId": "c4a49cf8-c366-4ebf-d6d7-611955dddfdc"
      },
      "source": [
        "X = array(X).reshape(data_length, 1, 1)\n",
        "print(X.shape)"
      ],
      "execution_count": 7,
      "outputs": [
        {
          "output_type": "stream",
          "text": [
            "(30, 1, 1)\n"
          ],
          "name": "stdout"
        }
      ]
    },
    {
      "cell_type": "markdown",
      "metadata": {
        "id": "KzRA5g8kz8_4",
        "colab_type": "text"
      },
      "source": [
        "Solution via Simple LSTM"
      ]
    },
    {
      "cell_type": "code",
      "metadata": {
        "id": "bET0_UQBaHU4",
        "colab_type": "code",
        "colab": {
          "base_uri": "https://localhost:8080/",
          "height": 238
        },
        "outputId": "96006d8c-1352-4260-8a7d-961336da84b4"
      },
      "source": [
        "model = Sequential()\n",
        "model.add(LSTM(50, activation='relu', input_shape=(1, 1)))\n",
        "model.add(Dense(1))\n",
        "model.compile(optimizer='adam', loss='mse')\n",
        "print(model.summary())"
      ],
      "execution_count": 8,
      "outputs": [
        {
          "output_type": "stream",
          "text": [
            "Model: \"sequential\"\n",
            "_________________________________________________________________\n",
            "Layer (type)                 Output Shape              Param #   \n",
            "=================================================================\n",
            "lstm (LSTM)                  (None, 50)                10400     \n",
            "_________________________________________________________________\n",
            "dense (Dense)                (None, 1)                 51        \n",
            "=================================================================\n",
            "Total params: 10,451\n",
            "Trainable params: 10,451\n",
            "Non-trainable params: 0\n",
            "_________________________________________________________________\n",
            "None\n"
          ],
          "name": "stdout"
        }
      ]
    },
    {
      "cell_type": "code",
      "metadata": {
        "id": "1YGn9v_6aQpo",
        "colab_type": "code",
        "colab": {}
      },
      "source": [
        "history = model.fit(X, Y, epochs=1000, validation_split=0.2, verbose=False, batch_size=5)"
      ],
      "execution_count": 9,
      "outputs": []
    },
    {
      "cell_type": "code",
      "metadata": {
        "id": "e1IIdpsWabDi",
        "colab_type": "code",
        "colab": {
          "base_uri": "https://localhost:8080/",
          "height": 316
        },
        "outputId": "ef9a6947-5327-4f80-e301-2635286265f3"
      },
      "source": [
        "# list all data in history\n",
        "print(history.history.keys())\n",
        "# summarize history for loss\n",
        "plt.plot(history.history['loss'])\n",
        "plt.plot(history.history['val_loss'])\n",
        "plt.title('model loss')\n",
        "plt.ylabel('loss')\n",
        "plt.xlabel('epoch')\n",
        "plt.legend(['train', 'test'], loc='upper right')\n",
        "plt.show()"
      ],
      "execution_count": 10,
      "outputs": [
        {
          "output_type": "stream",
          "text": [
            "dict_keys(['loss', 'val_loss'])\n"
          ],
          "name": "stdout"
        },
        {
          "output_type": "display_data",
          "data": {
            "image/png": "[encoded data removed]",
            "text/plain": [
              "<Figure size 432x288 with 1 Axes>"
            ]
          },
          "metadata": {
            "tags": []
          }
        }
      ]
    },
    {
      "cell_type": "code",
      "metadata": {
        "id": "EMpAWY7Bi5mZ",
        "colab_type": "code",
        "colab": {
          "base_uri": "https://localhost:8080/",
          "height": 34
        },
        "outputId": "ae50f362-bb4a-49ab-b95e-dd41a65b6573"
      },
      "source": [
        "test_input = array([50])\n",
        "test_input = test_input.reshape((1, 1, 1))\n",
        "test_output = model.predict(test_input, verbose=0)\n",
        "print(test_output)"
      ],
      "execution_count": 11,
      "outputs": [
        {
          "output_type": "stream",
          "text": [
            "[[731.0718]]\n"
          ],
          "name": "stdout"
        }
      ]
    },
    {
      "cell_type": "markdown",
      "metadata": {
        "id": "NF09Z3dEtpob",
        "colab_type": "text"
      },
      "source": [
        "Solution via Stacked LSTM"
      ]
    },
    {
      "cell_type": "code",
      "metadata": {
        "id": "ixuNWk3btnhj",
        "colab_type": "code",
        "colab": {
          "base_uri": "https://localhost:8080/",
          "height": 272
        },
        "outputId": "0ca99d42-c3f0-472a-c2e2-4ca06393d681"
      },
      "source": [
        "model = Sequential()\n",
        "model.add(LSTM(50, activation='relu', return_sequences=True, input_shape=(1, 1)))\n",
        "model.add(LSTM(50, activation='relu'))\n",
        "model.add(Dense(1))\n",
        "model.compile(optimizer='adam', loss='mse')\n",
        "print(model.summary())"
      ],
      "execution_count": 12,
      "outputs": [
        {
          "output_type": "stream",
          "text": [
            "Model: \"sequential_1\"\n",
            "_________________________________________________________________\n",
            "Layer (type)                 Output Shape              Param #   \n",
            "=================================================================\n",
            "lstm_1 (LSTM)                (None, 1, 50)             10400     \n",
            "_________________________________________________________________\n",
            "lstm_2 (LSTM)                (None, 50)                20200     \n",
            "_________________________________________________________________\n",
            "dense_1 (Dense)              (None, 1)                 51        \n",
            "=================================================================\n",
            "Total params: 30,651\n",
            "Trainable params: 30,651\n",
            "Non-trainable params: 0\n",
            "_________________________________________________________________\n",
            "None\n"
          ],
          "name": "stdout"
        }
      ]
    },
    {
      "cell_type": "code",
      "metadata": {
        "id": "EMAMBvuJtneJ",
        "colab_type": "code",
        "colab": {}
      },
      "source": [
        "history = model.fit(X, Y, epochs=2000, validation_split=0.2, verbose=False, batch_size=5)"
      ],
      "execution_count": 13,
      "outputs": []
    },
    {
      "cell_type": "code",
      "metadata": {
        "id": "gsE5HYhUuBNZ",
        "colab_type": "code",
        "colab": {
          "base_uri": "https://localhost:8080/",
          "height": 316
        },
        "outputId": "39d26565-ca3d-4e50-de51-a138e4c23c4c"
      },
      "source": [
        "# list all data in history\n",
        "print(history.history.keys())\n",
        "# summarize history for loss\n",
        "plt.plot(history.history['loss'])\n",
        "plt.plot(history.history['val_loss'])\n",
        "plt.title('model loss')\n",
        "plt.ylabel('loss')\n",
        "plt.xlabel('epoch')\n",
        "plt.legend(['train', 'test'], loc='upper right')\n",
        "plt.show()"
      ],
      "execution_count": 14,
      "outputs": [
        {
          "output_type": "stream",
          "text": [
            "dict_keys(['loss', 'val_loss'])\n"
          ],
          "name": "stdout"
        },
        {
          "output_type": "display_data",
          "data": {
            "image/png": "[encoded data removed]",
            "text/plain": [
              "<Figure size 432x288 with 1 Axes>"
            ]
          },
          "metadata": {
            "tags": []
          }
        }
      ]
    },
    {
      "cell_type": "code",
      "metadata": {
        "id": "dHfbK26yuGCk",
        "colab_type": "code",
        "colab": {
          "base_uri": "https://localhost:8080/",
          "height": 34
        },
        "outputId": "539d60c0-1d88-402c-ce74-acb38deb715e"
      },
      "source": [
        "test_input = array([50])\n",
        "test_input = test_input.reshape((1, 1, 1))\n",
        "test_output = model.predict(test_input, verbose=0)\n",
        "print(test_output)"
      ],
      "execution_count": 15,
      "outputs": [
        {
          "output_type": "stream",
          "text": [
            "[[745.9593]]\n"
          ],
          "name": "stdout"
        }
      ]
    },
    {
      "cell_type": "markdown",
      "metadata": {
        "id": "2g8kHWg8uOtz",
        "colab_type": "text"
      },
      "source": [
        "###One-to-One Sequence Problems with Multiple Features"
      ]
    },
    {
      "cell_type": "markdown",
      "metadata": {
        "id": "Sho30iqrAYQW",
        "colab_type": "text"
      },
      "source": [
        "Creating the Dataset"
      ]
    },
    {
      "cell_type": "code",
      "metadata": {
        "id": "BS06qfX-uF9R",
        "colab_type": "code",
        "colab": {
          "base_uri": "https://localhost:8080/",
          "height": 85
        },
        "outputId": "9c013562-01a7-4023-e8cd-f1d3ec52a6cd"
      },
      "source": [
        "nums = 25\n",
        "\n",
        "X1 = list()\n",
        "X2 = list()\n",
        "X = list()\n",
        "Y = list()\n",
        "\n",
        "X1 = [(x+1)*2 for x in range(25)]\n",
        "X2 = [(x+1)*3 for x in range(25)]\n",
        "Y = [x1*x2 for x1,x2 in zip(X1,X2)]\n",
        "Y = np.asarray(Y)\n",
        "\n",
        "print(X1)\n",
        "print(X2)\n",
        "print(Y)"
      ],
      "execution_count": 16,
      "outputs": [
        {
          "output_type": "stream",
          "text": [
            "[2, 4, 6, 8, 10, 12, 14, 16, 18, 20, 22, 24, 26, 28, 30, 32, 34, 36, 38, 40, 42, 44, 46, 48, 50]\n",
            "[3, 6, 9, 12, 15, 18, 21, 24, 27, 30, 33, 36, 39, 42, 45, 48, 51, 54, 57, 60, 63, 66, 69, 72, 75]\n",
            "[   6   24   54   96  150  216  294  384  486  600  726  864 1014 1176\n",
            " 1350 1536 1734 1944 2166 2400 2646 2904 3174 3456 3750]\n"
          ],
          "name": "stdout"
        }
      ]
    },
    {
      "cell_type": "code",
      "metadata": {
        "id": "0ALrhX6iuF56",
        "colab_type": "code",
        "colab": {
          "base_uri": "https://localhost:8080/",
          "height": 442
        },
        "outputId": "4c8b89ba-52f1-472b-8217-7a8753fee54e"
      },
      "source": [
        "X = np.column_stack((X1, X2))\n",
        "print(X)"
      ],
      "execution_count": 17,
      "outputs": [
        {
          "output_type": "stream",
          "text": [
            "[[ 2  3]\n",
            " [ 4  6]\n",
            " [ 6  9]\n",
            " [ 8 12]\n",
            " [10 15]\n",
            " [12 18]\n",
            " [14 21]\n",
            " [16 24]\n",
            " [18 27]\n",
            " [20 30]\n",
            " [22 33]\n",
            " [24 36]\n",
            " [26 39]\n",
            " [28 42]\n",
            " [30 45]\n",
            " [32 48]\n",
            " [34 51]\n",
            " [36 54]\n",
            " [38 57]\n",
            " [40 60]\n",
            " [42 63]\n",
            " [44 66]\n",
            " [46 69]\n",
            " [48 72]\n",
            " [50 75]]\n"
          ],
          "name": "stdout"
        }
      ]
    },
    {
      "cell_type": "code",
      "metadata": {
        "id": "X8tyq9dqufFX",
        "colab_type": "code",
        "colab": {}
      },
      "source": [
        "X = array(X).reshape(25, 1, 2)"
      ],
      "execution_count": 18,
      "outputs": []
    },
    {
      "cell_type": "markdown",
      "metadata": {
        "id": "mZO_DH6mA_yP",
        "colab_type": "text"
      },
      "source": [
        "Solution via Simple LSTM"
      ]
    },
    {
      "cell_type": "code",
      "metadata": {
        "id": "bAJq0Xm6ufCC",
        "colab_type": "code",
        "colab": {
          "base_uri": "https://localhost:8080/",
          "height": 272
        },
        "outputId": "22407226-1685-4b2e-ed04-75be0af9c4c0"
      },
      "source": [
        "model = Sequential()\n",
        "model.add(LSTM(80, activation='relu', input_shape=(1, 2)))\n",
        "model.add(Dense(10, activation='relu'))\n",
        "model.add(Dense(1))\n",
        "model.compile(optimizer='adam', loss='mse')\n",
        "print(model.summary())"
      ],
      "execution_count": 19,
      "outputs": [
        {
          "output_type": "stream",
          "text": [
            "Model: \"sequential_2\"\n",
            "_________________________________________________________________\n",
            "Layer (type)                 Output Shape              Param #   \n",
            "=================================================================\n",
            "lstm_3 (LSTM)                (None, 80)                26560     \n",
            "_________________________________________________________________\n",
            "dense_2 (Dense)              (None, 10)                810       \n",
            "_________________________________________________________________\n",
            "dense_3 (Dense)              (None, 1)                 11        \n",
            "=================================================================\n",
            "Total params: 27,381\n",
            "Trainable params: 27,381\n",
            "Non-trainable params: 0\n",
            "_________________________________________________________________\n",
            "None\n"
          ],
          "name": "stdout"
        }
      ]
    },
    {
      "cell_type": "code",
      "metadata": {
        "id": "6Mm6L5HAuF2r",
        "colab_type": "code",
        "colab": {
          "base_uri": "https://localhost:8080/",
          "height": 34
        },
        "outputId": "b128b8c6-b885-420f-9624-473baa013175"
      },
      "source": [
        "model.fit(X, Y, epochs=2000, validation_split=0.2, verbose=False, batch_size=5)"
      ],
      "execution_count": 20,
      "outputs": [
        {
          "output_type": "execute_result",
          "data": {
            "text/plain": [
              "<tensorflow.python.keras.callbacks.History at 0x7f20ad25dac8>"
            ]
          },
          "metadata": {
            "tags": []
          },
          "execution_count": 20
        }
      ]
    },
    {
      "cell_type": "code",
      "metadata": {
        "id": "Wy9hm_hvuvPi",
        "colab_type": "code",
        "colab": {
          "base_uri": "https://localhost:8080/",
          "height": 34
        },
        "outputId": "884bd679-7b46-42b1-93fd-7ba984161551"
      },
      "source": [
        "test_input = array([55,80])\n",
        "test_input = test_input.reshape((1, 1, 2))\n",
        "test_output = model.predict(test_input, verbose=0)\n",
        "print(test_output)"
      ],
      "execution_count": 21,
      "outputs": [
        {
          "output_type": "stream",
          "text": [
            "[[3986.4072]]\n"
          ],
          "name": "stdout"
        }
      ]
    },
    {
      "cell_type": "markdown",
      "metadata": {
        "id": "zSymWQh8u41C",
        "colab_type": "text"
      },
      "source": [
        "Solution via Stacked LSTM"
      ]
    },
    {
      "cell_type": "code",
      "metadata": {
        "id": "YFUmhUDUuvLQ",
        "colab_type": "code",
        "colab": {
          "base_uri": "https://localhost:8080/",
          "height": 408
        },
        "outputId": "651c22ca-d342-4968-8573-6074b087fea8"
      },
      "source": [
        "model = Sequential()\n",
        "model.add(LSTM(200, activation='relu', return_sequences=True, input_shape=(1, 2)))\n",
        "model.add(LSTM(100, activation='relu', return_sequences=True))\n",
        "model.add(LSTM(50, activation='relu', return_sequences=True))\n",
        "model.add(LSTM(25, activation='relu'))\n",
        "model.add(Dense(20, activation='relu'))\n",
        "model.add(Dense(10, activation='relu'))\n",
        "model.add(Dense(1))\n",
        "model.compile(optimizer='adam', loss='mse')\n",
        "print(model.summary())"
      ],
      "execution_count": 22,
      "outputs": [
        {
          "output_type": "stream",
          "text": [
            "Model: \"sequential_3\"\n",
            "_________________________________________________________________\n",
            "Layer (type)                 Output Shape              Param #   \n",
            "=================================================================\n",
            "lstm_4 (LSTM)                (None, 1, 200)            162400    \n",
            "_________________________________________________________________\n",
            "lstm_5 (LSTM)                (None, 1, 100)            120400    \n",
            "_________________________________________________________________\n",
            "lstm_6 (LSTM)                (None, 1, 50)             30200     \n",
            "_________________________________________________________________\n",
            "lstm_7 (LSTM)                (None, 25)                7600      \n",
            "_________________________________________________________________\n",
            "dense_4 (Dense)              (None, 20)                520       \n",
            "_________________________________________________________________\n",
            "dense_5 (Dense)              (None, 10)                210       \n",
            "_________________________________________________________________\n",
            "dense_6 (Dense)              (None, 1)                 11        \n",
            "=================================================================\n",
            "Total params: 321,341\n",
            "Trainable params: 321,341\n",
            "Non-trainable params: 0\n",
            "_________________________________________________________________\n",
            "None\n"
          ],
          "name": "stdout"
        }
      ]
    },
    {
      "cell_type": "code",
      "metadata": {
        "id": "fSzOEP45uvHc",
        "colab_type": "code",
        "colab": {}
      },
      "source": [
        "history = model.fit(X, Y, epochs=1000, validation_split=0.1, verbose=False, batch_size=3)"
      ],
      "execution_count": 23,
      "outputs": []
    },
    {
      "cell_type": "code",
      "metadata": {
        "id": "TqoZ-KekuvA3",
        "colab_type": "code",
        "colab": {
          "base_uri": "https://localhost:8080/",
          "height": 316
        },
        "outputId": "6cf1032b-04f2-480d-af9e-459f72460a2e"
      },
      "source": [
        "# list all data in history\n",
        "print(history.history.keys())\n",
        "# summarize history for loss\n",
        "plt.plot(history.history['loss'])\n",
        "plt.plot(history.history['val_loss'])\n",
        "plt.title('model loss')\n",
        "plt.ylabel('loss')\n",
        "plt.xlabel('epoch')\n",
        "plt.legend(['train', 'test'], loc='upper right')\n",
        "plt.show()"
      ],
      "execution_count": 24,
      "outputs": [
        {
          "output_type": "stream",
          "text": [
            "dict_keys(['loss', 'val_loss'])\n"
          ],
          "name": "stdout"
        },
        {
          "output_type": "display_data",
          "data": {
            "image/png": "[encoded data removed]",
            "text/plain": [
              "<Figure size 432x288 with 1 Axes>"
            ]
          },
          "metadata": {
            "tags": []
          }
        }
      ]
    },
    {
      "cell_type": "code",
      "metadata": {
        "id": "nzHu22jbBm1h",
        "colab_type": "code",
        "colab": {
          "base_uri": "https://localhost:8080/",
          "height": 34
        },
        "outputId": "a603b684-0af3-43a0-8702-519abbd1da3c"
      },
      "source": [
        "test_output = model.predict(test_input, verbose=0)\n",
        "print(test_output)"
      ],
      "execution_count": 25,
      "outputs": [
        {
          "output_type": "stream",
          "text": [
            "[[3939.2937]]\n"
          ],
          "name": "stdout"
        }
      ]
    },
    {
      "cell_type": "markdown",
      "metadata": {
        "id": "D5vsUFAHBuHd",
        "colab_type": "text"
      },
      "source": [
        "#Many-to-One Sequence Problems"
      ]
    },
    {
      "cell_type": "markdown",
      "metadata": {
        "id": "mj2Y1GzRwL0C",
        "colab_type": "text"
      },
      "source": [
        "###Many-to-One Sequence Problems with a Single Feature"
      ]
    },
    {
      "cell_type": "markdown",
      "metadata": {
        "id": "pynzuQk7Ccvd",
        "colab_type": "text"
      },
      "source": [
        "Creating the Dataset"
      ]
    },
    {
      "cell_type": "code",
      "metadata": {
        "id": "EjPePHS9uu8C",
        "colab_type": "code",
        "colab": {
          "base_uri": "https://localhost:8080/",
          "height": 51
        },
        "outputId": "b65d2a93-90d0-482f-9d73-1fea8a4837c9"
      },
      "source": [
        "X = np.array([x+1 for x in range(45)])\n",
        "print(X)"
      ],
      "execution_count": 26,
      "outputs": [
        {
          "output_type": "stream",
          "text": [
            "[ 1  2  3  4  5  6  7  8  9 10 11 12 13 14 15 16 17 18 19 20 21 22 23 24\n",
            " 25 26 27 28 29 30 31 32 33 34 35 36 37 38 39 40 41 42 43 44 45]\n"
          ],
          "name": "stdout"
        }
      ]
    },
    {
      "cell_type": "code",
      "metadata": {
        "id": "bEHFtwIdwRxg",
        "colab_type": "code",
        "colab": {
          "base_uri": "https://localhost:8080/",
          "height": 1000
        },
        "outputId": "1b7b71c5-4a8c-4924-a0f1-154edefe21b9"
      },
      "source": [
        "X = X.reshape(15,3,1)\n",
        "print(X)"
      ],
      "execution_count": 27,
      "outputs": [
        {
          "output_type": "stream",
          "text": [
            "[[[ 1]\n",
            "  [ 2]\n",
            "  [ 3]]\n",
            "\n",
            " [[ 4]\n",
            "  [ 5]\n",
            "  [ 6]]\n",
            "\n",
            " [[ 7]\n",
            "  [ 8]\n",
            "  [ 9]]\n",
            "\n",
            " [[10]\n",
            "  [11]\n",
            "  [12]]\n",
            "\n",
            " [[13]\n",
            "  [14]\n",
            "  [15]]\n",
            "\n",
            " [[16]\n",
            "  [17]\n",
            "  [18]]\n",
            "\n",
            " [[19]\n",
            "  [20]\n",
            "  [21]]\n",
            "\n",
            " [[22]\n",
            "  [23]\n",
            "  [24]]\n",
            "\n",
            " [[25]\n",
            "  [26]\n",
            "  [27]]\n",
            "\n",
            " [[28]\n",
            "  [29]\n",
            "  [30]]\n",
            "\n",
            " [[31]\n",
            "  [32]\n",
            "  [33]]\n",
            "\n",
            " [[34]\n",
            "  [35]\n",
            "  [36]]\n",
            "\n",
            " [[37]\n",
            "  [38]\n",
            "  [39]]\n",
            "\n",
            " [[40]\n",
            "  [41]\n",
            "  [42]]\n",
            "\n",
            " [[43]\n",
            "  [44]\n",
            "  [45]]]\n"
          ],
          "name": "stdout"
        }
      ]
    },
    {
      "cell_type": "code",
      "metadata": {
        "id": "Snme73UiwUrm",
        "colab_type": "code",
        "colab": {
          "base_uri": "https://localhost:8080/",
          "height": 34
        },
        "outputId": "db26f57e-1250-4ae1-b674-acaf6460baad"
      },
      "source": [
        "Y = list()\n",
        "for x in X:\n",
        "    Y.append(x.sum())\n",
        "\n",
        "Y = np.array(Y)\n",
        "print(Y)"
      ],
      "execution_count": 28,
      "outputs": [
        {
          "output_type": "stream",
          "text": [
            "[  6  15  24  33  42  51  60  69  78  87  96 105 114 123 132]\n"
          ],
          "name": "stdout"
        }
      ]
    },
    {
      "cell_type": "markdown",
      "metadata": {
        "id": "YqHc4c-2Ck1W",
        "colab_type": "text"
      },
      "source": [
        "Solution via Simple LSTM"
      ]
    },
    {
      "cell_type": "code",
      "metadata": {
        "id": "HhlBCq7uuu0M",
        "colab_type": "code",
        "colab": {}
      },
      "source": [
        "model = Sequential()\n",
        "model.add(LSTM(50, activation='relu', input_shape=(3, 1)))\n",
        "model.add(Dense(1))\n",
        "model.compile(optimizer='adam', loss='mse')"
      ],
      "execution_count": 29,
      "outputs": []
    },
    {
      "cell_type": "code",
      "metadata": {
        "id": "Gf55FcqlDJNz",
        "colab_type": "code",
        "colab": {}
      },
      "source": [
        "history = model.fit(X, Y, epochs=1000, validation_split=0.2, verbose=False)"
      ],
      "execution_count": 30,
      "outputs": []
    },
    {
      "cell_type": "code",
      "metadata": {
        "id": "PWQGpSsnwnQB",
        "colab_type": "code",
        "colab": {
          "base_uri": "https://localhost:8080/",
          "height": 316
        },
        "outputId": "0f54c65b-3cfb-498d-bd08-6ba08360681b"
      },
      "source": [
        "# list all data in history\n",
        "print(history.history.keys())\n",
        "# summarize history for loss\n",
        "plt.plot(history.history['loss'])\n",
        "plt.plot(history.history['val_loss'])\n",
        "plt.title('model loss')\n",
        "plt.ylabel('loss')\n",
        "plt.xlabel('epoch')\n",
        "plt.legend(['train', 'test'], loc='upper right')\n",
        "plt.show()"
      ],
      "execution_count": 31,
      "outputs": [
        {
          "output_type": "stream",
          "text": [
            "dict_keys(['loss', 'val_loss'])\n"
          ],
          "name": "stdout"
        },
        {
          "output_type": "display_data",
          "data": {
            "image/png": "[encoded data removed]",
            "text/plain": [
              "<Figure size 432x288 with 1 Axes>"
            ]
          },
          "metadata": {
            "tags": []
          }
        }
      ]
    },
    {
      "cell_type": "code",
      "metadata": {
        "id": "VrIvNWCuwnaP",
        "colab_type": "code",
        "colab": {
          "base_uri": "https://localhost:8080/",
          "height": 71
        },
        "outputId": "ed167ec9-f556-4a9a-a70c-cf009f281093"
      },
      "source": [
        "test_input = array([50,51,52])\n",
        "test_input = test_input.reshape((1, 3, 1))\n",
        "test_output = model.predict(test_input, verbose=0)\n",
        "print(test_output)"
      ],
      "execution_count": 32,
      "outputs": [
        {
          "output_type": "stream",
          "text": [
            "WARNING:tensorflow:5 out of the last 5 calls to <function Model.make_predict_function.<locals>.predict_function at 0x7f20a823c9d8> triggered tf.function retracing. Tracing is expensive and the excessive number of tracings could be due to (1) creating @tf.function repeatedly in a loop, (2) passing tensors with different shapes, (3) passing Python objects instead of tensors. For (1), please define your @tf.function outside of the loop. For (2), @tf.function has experimental_relax_shapes=True option that relaxes argument shapes that can avoid unnecessary retracing. For (3), please refer to https://www.tensorflow.org/tutorials/customization/performance#python_or_tensor_args and https://www.tensorflow.org/api_docs/python/tf/function for  more details.\n",
            "[[152.76772]]\n"
          ],
          "name": "stdout"
        }
      ]
    },
    {
      "cell_type": "markdown",
      "metadata": {
        "id": "3bqHdgHtw3PX",
        "colab_type": "text"
      },
      "source": [
        "Solution via Stacked LSTM"
      ]
    },
    {
      "cell_type": "code",
      "metadata": {
        "id": "5aqEprWbwner",
        "colab_type": "code",
        "colab": {}
      },
      "source": [
        "model = Sequential()\n",
        "model.add(LSTM(200, activation='relu', return_sequences=True, input_shape=(3, 1)))\n",
        "model.add(LSTM(100, activation='relu', return_sequences=True))\n",
        "model.add(LSTM(50, activation='relu', return_sequences=True))\n",
        "model.add(LSTM(25, activation='relu'))\n",
        "model.add(Dense(20, activation='relu'))\n",
        "model.add(Dense(10, activation='relu'))\n",
        "model.add(Dense(1))\n",
        "model.compile(optimizer='adam', loss='mse')"
      ],
      "execution_count": 33,
      "outputs": []
    },
    {
      "cell_type": "code",
      "metadata": {
        "id": "DelOejJBDM7y",
        "colab_type": "code",
        "colab": {}
      },
      "source": [
        "history = model.fit(X, Y, epochs=1000, validation_split=0.2, verbose=False)"
      ],
      "execution_count": 34,
      "outputs": []
    },
    {
      "cell_type": "code",
      "metadata": {
        "id": "z3Ot3zhYwnYf",
        "colab_type": "code",
        "colab": {
          "base_uri": "https://localhost:8080/",
          "height": 316
        },
        "outputId": "515d1bf7-e8eb-4b2f-f1a9-01c21cba1e59"
      },
      "source": [
        "# list all data in history\n",
        "print(history.history.keys())\n",
        "# summarize history for loss\n",
        "plt.plot(history.history['loss'])\n",
        "plt.plot(history.history['val_loss'])\n",
        "plt.title('model loss')\n",
        "plt.ylabel('loss')\n",
        "plt.xlabel('epoch')\n",
        "plt.legend(['train', 'test'], loc='upper right')\n",
        "plt.show()"
      ],
      "execution_count": 35,
      "outputs": [
        {
          "output_type": "stream",
          "text": [
            "dict_keys(['loss', 'val_loss'])\n"
          ],
          "name": "stdout"
        },
        {
          "output_type": "display_data",
          "data": {
            "image/png": "[encoded data removed]",
            "text/plain": [
              "<Figure size 432x288 with 1 Axes>"
            ]
          },
          "metadata": {
            "tags": []
          }
        }
      ]
    },
    {
      "cell_type": "code",
      "metadata": {
        "id": "kMGbAIcqwnVs",
        "colab_type": "code",
        "colab": {
          "base_uri": "https://localhost:8080/",
          "height": 71
        },
        "outputId": "d5e6a8bc-36d8-4895-97d1-a0ef8307230a"
      },
      "source": [
        "test_output = model.predict(test_input, verbose=0)\n",
        "print(test_output)"
      ],
      "execution_count": 36,
      "outputs": [
        {
          "output_type": "stream",
          "text": [
            "WARNING:tensorflow:6 out of the last 6 calls to <function Model.make_predict_function.<locals>.predict_function at 0x7f20b1162400> triggered tf.function retracing. Tracing is expensive and the excessive number of tracings could be due to (1) creating @tf.function repeatedly in a loop, (2) passing tensors with different shapes, (3) passing Python objects instead of tensors. For (1), please define your @tf.function outside of the loop. For (2), @tf.function has experimental_relax_shapes=True option that relaxes argument shapes that can avoid unnecessary retracing. For (3), please refer to https://www.tensorflow.org/tutorials/customization/performance#python_or_tensor_args and https://www.tensorflow.org/api_docs/python/tf/function for  more details.\n",
            "[[150.89131]]\n"
          ],
          "name": "stdout"
        }
      ]
    },
    {
      "cell_type": "markdown",
      "metadata": {
        "id": "Q7KO62HaxG_P",
        "colab_type": "text"
      },
      "source": [
        "Solution via Bidirectional LSTM"
      ]
    },
    {
      "cell_type": "code",
      "metadata": {
        "id": "H6Rths0IxDaR",
        "colab_type": "code",
        "colab": {}
      },
      "source": [
        "model = Sequential()\n",
        "model.add(Bidirectional(LSTM(50, activation='relu'), input_shape=(3, 1)))\n",
        "model.add(Dense(1))\n",
        "model.compile(optimizer='adam', loss='mse')"
      ],
      "execution_count": 37,
      "outputs": []
    },
    {
      "cell_type": "code",
      "metadata": {
        "id": "MITfm3-0xDs4",
        "colab_type": "code",
        "colab": {}
      },
      "source": [
        "history = model.fit(X, Y, epochs=1000, validation_split=0.2, verbose=False)"
      ],
      "execution_count": 38,
      "outputs": []
    },
    {
      "cell_type": "code",
      "metadata": {
        "id": "2BTRKK0OxNLi",
        "colab_type": "code",
        "colab": {
          "base_uri": "https://localhost:8080/",
          "height": 316
        },
        "outputId": "91991b58-7c3d-494d-92d0-6de13bd2c353"
      },
      "source": [
        "# list all data in history\n",
        "print(history.history.keys())\n",
        "# summarize history for loss\n",
        "plt.plot(history.history['loss'])\n",
        "plt.plot(history.history['val_loss'])\n",
        "plt.title('model loss')\n",
        "plt.ylabel('loss')\n",
        "plt.xlabel('epoch')\n",
        "plt.legend(['train', 'test'], loc='upper right')\n",
        "plt.show()"
      ],
      "execution_count": 39,
      "outputs": [
        {
          "output_type": "stream",
          "text": [
            "dict_keys(['loss', 'val_loss'])\n"
          ],
          "name": "stdout"
        },
        {
          "output_type": "display_data",
          "data": {
            "image/png": "[encoded data removed]",
            "text/plain": [
              "<Figure size 432x288 with 1 Axes>"
            ]
          },
          "metadata": {
            "tags": []
          }
        }
      ]
    },
    {
      "cell_type": "code",
      "metadata": {
        "id": "-mI4ABr3DWUp",
        "colab_type": "code",
        "colab": {
          "base_uri": "https://localhost:8080/",
          "height": 71
        },
        "outputId": "5dbe381e-8edc-403b-c82c-6e1878692b31"
      },
      "source": [
        "test_output = model.predict(test_input, verbose=0)\n",
        "print(test_output)"
      ],
      "execution_count": 40,
      "outputs": [
        {
          "output_type": "stream",
          "text": [
            "WARNING:tensorflow:7 out of the last 7 calls to <function Model.make_predict_function.<locals>.predict_function at 0x7f20aa475bf8> triggered tf.function retracing. Tracing is expensive and the excessive number of tracings could be due to (1) creating @tf.function repeatedly in a loop, (2) passing tensors with different shapes, (3) passing Python objects instead of tensors. For (1), please define your @tf.function outside of the loop. For (2), @tf.function has experimental_relax_shapes=True option that relaxes argument shapes that can avoid unnecessary retracing. For (3), please refer to https://www.tensorflow.org/tutorials/customization/performance#python_or_tensor_args and https://www.tensorflow.org/api_docs/python/tf/function for  more details.\n",
            "[[153.22887]]\n"
          ],
          "name": "stdout"
        }
      ]
    },
    {
      "cell_type": "markdown",
      "metadata": {
        "id": "W6N-XWg6xRy6",
        "colab_type": "text"
      },
      "source": [
        "###Many-to-one Sequence Problems with Multiple Features"
      ]
    },
    {
      "cell_type": "markdown",
      "metadata": {
        "id": "mgNi7Lstxab_",
        "colab_type": "text"
      },
      "source": [
        "Creating the Dataset"
      ]
    },
    {
      "cell_type": "code",
      "metadata": {
        "id": "E_OoPtSCxNRY",
        "colab_type": "code",
        "colab": {
          "base_uri": "https://localhost:8080/",
          "height": 119
        },
        "outputId": "7652a6c8-1f52-4b57-fa88-f9e5505f6a53"
      },
      "source": [
        "X1 = np.array([x+3 for x in range(0, 135, 3)])\n",
        "print(X1)\n",
        "\n",
        "X2 = np.array([x+5 for x in range(0, 225, 5)])\n",
        "print(X2)"
      ],
      "execution_count": 41,
      "outputs": [
        {
          "output_type": "stream",
          "text": [
            "[  3   6   9  12  15  18  21  24  27  30  33  36  39  42  45  48  51  54\n",
            "  57  60  63  66  69  72  75  78  81  84  87  90  93  96  99 102 105 108\n",
            " 111 114 117 120 123 126 129 132 135]\n",
            "[  5  10  15  20  25  30  35  40  45  50  55  60  65  70  75  80  85  90\n",
            "  95 100 105 110 115 120 125 130 135 140 145 150 155 160 165 170 175 180\n",
            " 185 190 195 200 205 210 215 220 225]\n"
          ],
          "name": "stdout"
        }
      ]
    },
    {
      "cell_type": "code",
      "metadata": {
        "id": "3mi8aoc3xDpS",
        "colab_type": "code",
        "colab": {
          "base_uri": "https://localhost:8080/",
          "height": 782
        },
        "outputId": "ed411805-e5fe-4ad5-8ca1-d52e81fa793e"
      },
      "source": [
        "X = np.column_stack((X1, X2))\n",
        "print(X)"
      ],
      "execution_count": 42,
      "outputs": [
        {
          "output_type": "stream",
          "text": [
            "[[  3   5]\n",
            " [  6  10]\n",
            " [  9  15]\n",
            " [ 12  20]\n",
            " [ 15  25]\n",
            " [ 18  30]\n",
            " [ 21  35]\n",
            " [ 24  40]\n",
            " [ 27  45]\n",
            " [ 30  50]\n",
            " [ 33  55]\n",
            " [ 36  60]\n",
            " [ 39  65]\n",
            " [ 42  70]\n",
            " [ 45  75]\n",
            " [ 48  80]\n",
            " [ 51  85]\n",
            " [ 54  90]\n",
            " [ 57  95]\n",
            " [ 60 100]\n",
            " [ 63 105]\n",
            " [ 66 110]\n",
            " [ 69 115]\n",
            " [ 72 120]\n",
            " [ 75 125]\n",
            " [ 78 130]\n",
            " [ 81 135]\n",
            " [ 84 140]\n",
            " [ 87 145]\n",
            " [ 90 150]\n",
            " [ 93 155]\n",
            " [ 96 160]\n",
            " [ 99 165]\n",
            " [102 170]\n",
            " [105 175]\n",
            " [108 180]\n",
            " [111 185]\n",
            " [114 190]\n",
            " [117 195]\n",
            " [120 200]\n",
            " [123 205]\n",
            " [126 210]\n",
            " [129 215]\n",
            " [132 220]\n",
            " [135 225]]\n"
          ],
          "name": "stdout"
        }
      ]
    },
    {
      "cell_type": "code",
      "metadata": {
        "id": "qv6OJS9TxDlp",
        "colab_type": "code",
        "colab": {
          "base_uri": "https://localhost:8080/",
          "height": 1000
        },
        "outputId": "1eafcaee-f12a-4428-f276-af282deeecd3"
      },
      "source": [
        "X = array(X).reshape(15, 3, 2)\n",
        "print(X)"
      ],
      "execution_count": 43,
      "outputs": [
        {
          "output_type": "stream",
          "text": [
            "[[[  3   5]\n",
            "  [  6  10]\n",
            "  [  9  15]]\n",
            "\n",
            " [[ 12  20]\n",
            "  [ 15  25]\n",
            "  [ 18  30]]\n",
            "\n",
            " [[ 21  35]\n",
            "  [ 24  40]\n",
            "  [ 27  45]]\n",
            "\n",
            " [[ 30  50]\n",
            "  [ 33  55]\n",
            "  [ 36  60]]\n",
            "\n",
            " [[ 39  65]\n",
            "  [ 42  70]\n",
            "  [ 45  75]]\n",
            "\n",
            " [[ 48  80]\n",
            "  [ 51  85]\n",
            "  [ 54  90]]\n",
            "\n",
            " [[ 57  95]\n",
            "  [ 60 100]\n",
            "  [ 63 105]]\n",
            "\n",
            " [[ 66 110]\n",
            "  [ 69 115]\n",
            "  [ 72 120]]\n",
            "\n",
            " [[ 75 125]\n",
            "  [ 78 130]\n",
            "  [ 81 135]]\n",
            "\n",
            " [[ 84 140]\n",
            "  [ 87 145]\n",
            "  [ 90 150]]\n",
            "\n",
            " [[ 93 155]\n",
            "  [ 96 160]\n",
            "  [ 99 165]]\n",
            "\n",
            " [[102 170]\n",
            "  [105 175]\n",
            "  [108 180]]\n",
            "\n",
            " [[111 185]\n",
            "  [114 190]\n",
            "  [117 195]]\n",
            "\n",
            " [[120 200]\n",
            "  [123 205]\n",
            "  [126 210]]\n",
            "\n",
            " [[129 215]\n",
            "  [132 220]\n",
            "  [135 225]]]\n"
          ],
          "name": "stdout"
        }
      ]
    },
    {
      "cell_type": "markdown",
      "metadata": {
        "id": "ahlqE0p7xqx3",
        "colab_type": "text"
      },
      "source": [
        "Solution via Simple LSTM"
      ]
    },
    {
      "cell_type": "code",
      "metadata": {
        "id": "xftww77UxDjO",
        "colab_type": "code",
        "colab": {}
      },
      "source": [
        "model = Sequential()\n",
        "model.add(LSTM(50, activation='relu', input_shape=(3, 2)))\n",
        "model.add(Dense(1))\n",
        "model.compile(optimizer='adam', loss='mse')"
      ],
      "execution_count": 44,
      "outputs": []
    },
    {
      "cell_type": "code",
      "metadata": {
        "id": "-UKpnQmaDruK",
        "colab_type": "code",
        "colab": {}
      },
      "source": [
        "history = model.fit(X, Y, epochs=1000, validation_split=0.2, verbose=False)"
      ],
      "execution_count": 45,
      "outputs": []
    },
    {
      "cell_type": "code",
      "metadata": {
        "id": "9GM3FDM5DuJi",
        "colab_type": "code",
        "colab": {
          "base_uri": "https://localhost:8080/",
          "height": 316
        },
        "outputId": "c465ea79-947c-4f36-8905-fe0a2acb6ce8"
      },
      "source": [
        "# list all data in history\n",
        "print(history.history.keys())\n",
        "# summarize history for loss\n",
        "plt.plot(history.history['loss'])\n",
        "plt.plot(history.history['val_loss'])\n",
        "plt.title('model loss')\n",
        "plt.ylabel('loss')\n",
        "plt.xlabel('epoch')\n",
        "plt.legend(['train', 'test'], loc='upper right')\n",
        "plt.show()"
      ],
      "execution_count": 46,
      "outputs": [
        {
          "output_type": "stream",
          "text": [
            "dict_keys(['loss', 'val_loss'])\n"
          ],
          "name": "stdout"
        },
        {
          "output_type": "display_data",
          "data": {
            "image/png": "[encoded data removed]",
            "text/plain": [
              "<Figure size 432x288 with 1 Axes>"
            ]
          },
          "metadata": {
            "tags": []
          }
        }
      ]
    },
    {
      "cell_type": "code",
      "metadata": {
        "id": "0dZ78Z5vxDgi",
        "colab_type": "code",
        "colab": {
          "base_uri": "https://localhost:8080/",
          "height": 71
        },
        "outputId": "9fbf18d3-789c-4590-ea4c-14904cd7fc24"
      },
      "source": [
        "test_input = array([[8, 51],\n",
        "                    [11,56],\n",
        "                    [14,61]])\n",
        "\n",
        "test_input = test_input.reshape((1, 3, 2))\n",
        "test_output = model.predict(test_input, verbose=0)\n",
        "print(test_output)"
      ],
      "execution_count": 47,
      "outputs": [
        {
          "output_type": "stream",
          "text": [
            "WARNING:tensorflow:8 out of the last 8 calls to <function Model.make_predict_function.<locals>.predict_function at 0x7f20ade35048> triggered tf.function retracing. Tracing is expensive and the excessive number of tracings could be due to (1) creating @tf.function repeatedly in a loop, (2) passing tensors with different shapes, (3) passing Python objects instead of tensors. For (1), please define your @tf.function outside of the loop. For (2), @tf.function has experimental_relax_shapes=True option that relaxes argument shapes that can avoid unnecessary retracing. For (3), please refer to https://www.tensorflow.org/tutorials/customization/performance#python_or_tensor_args and https://www.tensorflow.org/api_docs/python/tf/function for  more details.\n",
            "[[15.74945]]\n"
          ],
          "name": "stdout"
        }
      ]
    },
    {
      "cell_type": "markdown",
      "metadata": {
        "id": "F8Saeo_0xwMT",
        "colab_type": "text"
      },
      "source": [
        "Solution via Stacked LSTM"
      ]
    },
    {
      "cell_type": "code",
      "metadata": {
        "id": "khLXD2FvxDef",
        "colab_type": "code",
        "colab": {}
      },
      "source": [
        "model = Sequential()\n",
        "model.add(LSTM(200, activation='relu', return_sequences=True, input_shape=(3, 2)))\n",
        "model.add(LSTM(100, activation='relu', return_sequences=True))\n",
        "model.add(LSTM(50, activation='relu', return_sequences=True))\n",
        "model.add(LSTM(25, activation='relu'))\n",
        "model.add(Dense(20, activation='relu'))\n",
        "model.add(Dense(10, activation='relu'))\n",
        "model.add(Dense(1))\n",
        "model.compile(optimizer='adam', loss='mse')"
      ],
      "execution_count": 48,
      "outputs": []
    },
    {
      "cell_type": "code",
      "metadata": {
        "id": "TakVlGtSDwqT",
        "colab_type": "code",
        "colab": {}
      },
      "source": [
        "history = model.fit(X, Y, epochs=1000, validation_split=0.2, verbose=False)"
      ],
      "execution_count": 49,
      "outputs": []
    },
    {
      "cell_type": "code",
      "metadata": {
        "id": "VdYFlUc7Dz1f",
        "colab_type": "code",
        "colab": {
          "base_uri": "https://localhost:8080/",
          "height": 316
        },
        "outputId": "b80939cb-54b8-4585-a399-1f9ecbe169ea"
      },
      "source": [
        "# list all data in history\n",
        "print(history.history.keys())\n",
        "# summarize history for loss\n",
        "plt.plot(history.history['loss'])\n",
        "plt.plot(history.history['val_loss'])\n",
        "plt.title('model loss')\n",
        "plt.ylabel('loss')\n",
        "plt.xlabel('epoch')\n",
        "plt.legend(['train', 'test'], loc='upper right')\n",
        "plt.show()"
      ],
      "execution_count": 50,
      "outputs": [
        {
          "output_type": "stream",
          "text": [
            "dict_keys(['loss', 'val_loss'])\n"
          ],
          "name": "stdout"
        },
        {
          "output_type": "display_data",
          "data": {
            "image/png": "[encoded data removed]",
            "text/plain": [
              "<Figure size 432x288 with 1 Axes>"
            ]
          },
          "metadata": {
            "tags": []
          }
        }
      ]
    },
    {
      "cell_type": "code",
      "metadata": {
        "id": "Jz1ghl8zx4I9",
        "colab_type": "code",
        "colab": {
          "base_uri": "https://localhost:8080/",
          "height": 71
        },
        "outputId": "fe2abd37-8815-467e-ff02-99fd0cf3073f"
      },
      "source": [
        "test_output = model.predict(test_input, verbose=0)\n",
        "print(test_output)"
      ],
      "execution_count": 51,
      "outputs": [
        {
          "output_type": "stream",
          "text": [
            "WARNING:tensorflow:9 out of the last 9 calls to <function Model.make_predict_function.<locals>.predict_function at 0x7f20aa042950> triggered tf.function retracing. Tracing is expensive and the excessive number of tracings could be due to (1) creating @tf.function repeatedly in a loop, (2) passing tensors with different shapes, (3) passing Python objects instead of tensors. For (1), please define your @tf.function outside of the loop. For (2), @tf.function has experimental_relax_shapes=True option that relaxes argument shapes that can avoid unnecessary retracing. For (3), please refer to https://www.tensorflow.org/tutorials/customization/performance#python_or_tensor_args and https://www.tensorflow.org/api_docs/python/tf/function for  more details.\n",
            "[[26.027208]]\n"
          ],
          "name": "stdout"
        }
      ]
    },
    {
      "cell_type": "markdown",
      "metadata": {
        "id": "HfF4COPOybYE",
        "colab_type": "text"
      },
      "source": [
        "Solution via Bidirectional LSTM"
      ]
    },
    {
      "cell_type": "code",
      "metadata": {
        "id": "MrXeCjDOx4sH",
        "colab_type": "code",
        "colab": {}
      },
      "source": [
        "model = Sequential()\n",
        "model.add(Bidirectional(LSTM(50, activation='relu'), input_shape=(3, 2)))\n",
        "model.add(Dense(1))\n",
        "model.compile(optimizer='adam', loss='mse')"
      ],
      "execution_count": 52,
      "outputs": []
    },
    {
      "cell_type": "code",
      "metadata": {
        "id": "dHp55EnDD52R",
        "colab_type": "code",
        "colab": {}
      },
      "source": [
        "history = model.fit(X, Y, epochs=1000, validation_split=0.2, verbose=False)"
      ],
      "execution_count": 53,
      "outputs": []
    },
    {
      "cell_type": "code",
      "metadata": {
        "id": "ball0cQYx4pe",
        "colab_type": "code",
        "colab": {
          "base_uri": "https://localhost:8080/",
          "height": 316
        },
        "outputId": "039de716-8174-41ef-fad8-b3dd87fb5f0f"
      },
      "source": [
        "# list all data in history\n",
        "print(history.history.keys())\n",
        "# summarize history for loss\n",
        "plt.plot(history.history['loss'])\n",
        "plt.plot(history.history['val_loss'])\n",
        "plt.title('model loss')\n",
        "plt.ylabel('loss')\n",
        "plt.xlabel('epoch')\n",
        "plt.legend(['train', 'test'], loc='upper right')\n",
        "plt.show()"
      ],
      "execution_count": 54,
      "outputs": [
        {
          "output_type": "stream",
          "text": [
            "dict_keys(['loss', 'val_loss'])\n"
          ],
          "name": "stdout"
        },
        {
          "output_type": "display_data",
          "data": {
            "image/png": "[encoded data removed]",
            "text/plain": [
              "<Figure size 432x288 with 1 Axes>"
            ]
          },
          "metadata": {
            "tags": []
          }
        }
      ]
    },
    {
      "cell_type": "code",
      "metadata": {
        "id": "viul0jHHx4lk",
        "colab_type": "code",
        "colab": {
          "base_uri": "https://localhost:8080/",
          "height": 71
        },
        "outputId": "5c2632b9-078b-493d-f080-e3dc8a88079a"
      },
      "source": [
        "test_output = model.predict(test_input, verbose=0)\n",
        "print(test_output)"
      ],
      "execution_count": 55,
      "outputs": [
        {
          "output_type": "stream",
          "text": [
            "WARNING:tensorflow:10 out of the last 10 calls to <function Model.make_predict_function.<locals>.predict_function at 0x7f20a80b9488> triggered tf.function retracing. Tracing is expensive and the excessive number of tracings could be due to (1) creating @tf.function repeatedly in a loop, (2) passing tensors with different shapes, (3) passing Python objects instead of tensors. For (1), please define your @tf.function outside of the loop. For (2), @tf.function has experimental_relax_shapes=True option that relaxes argument shapes that can avoid unnecessary retracing. For (3), please refer to https://www.tensorflow.org/tutorials/customization/performance#python_or_tensor_args and https://www.tensorflow.org/api_docs/python/tf/function for  more details.\n",
            "[[12.123985]]\n"
          ],
          "name": "stdout"
        }
      ]
    },
    {
      "cell_type": "code",
      "metadata": {
        "id": "QMeUNyQ8x4g6",
        "colab_type": "code",
        "colab": {
          "base_uri": "https://localhost:8080/",
          "height": 272
        },
        "outputId": "46af452b-58df-469f-8ddd-221067ea7d5b"
      },
      "source": [
        "Y = list()\n",
        "for x in X:\n",
        "    new_item = list()\n",
        "    new_item.append(x[2][0]+3)\n",
        "    new_item.append(x[2][1]+5)\n",
        "    Y.append(new_item)\n",
        "\n",
        "Y = np.array(Y)\n",
        "print(Y)"
      ],
      "execution_count": 56,
      "outputs": [
        {
          "output_type": "stream",
          "text": [
            "[[ 12  20]\n",
            " [ 21  35]\n",
            " [ 30  50]\n",
            " [ 39  65]\n",
            " [ 48  80]\n",
            " [ 57  95]\n",
            " [ 66 110]\n",
            " [ 75 125]\n",
            " [ 84 140]\n",
            " [ 93 155]\n",
            " [102 170]\n",
            " [111 185]\n",
            " [120 200]\n",
            " [129 215]\n",
            " [138 230]]\n"
          ],
          "name": "stdout"
        }
      ]
    },
    {
      "cell_type": "code",
      "metadata": {
        "id": "vjgf_dLFx4GW",
        "colab_type": "code",
        "colab": {}
      },
      "source": [
        "model = Sequential()\n",
        "model.add(LSTM(50, activation='relu', input_shape=(3, 2)))\n",
        "model.add(Dense(2))\n",
        "model.compile(optimizer='adam', loss='mse')"
      ],
      "execution_count": 57,
      "outputs": []
    },
    {
      "cell_type": "code",
      "metadata": {
        "id": "Ea5lPxbrEOT5",
        "colab_type": "code",
        "colab": {}
      },
      "source": [
        "history = model.fit(X, Y, epochs=1000, validation_split=0.2, verbose=False)"
      ],
      "execution_count": 58,
      "outputs": []
    },
    {
      "cell_type": "code",
      "metadata": {
        "id": "IJZEiOEyx4DW",
        "colab_type": "code",
        "colab": {
          "base_uri": "https://localhost:8080/",
          "height": 316
        },
        "outputId": "532a97cc-976a-4051-be62-a8686f1f81c3"
      },
      "source": [
        "# list all data in history\n",
        "print(history.history.keys())\n",
        "# summarize history for loss\n",
        "plt.plot(history.history['loss'])\n",
        "plt.plot(history.history['val_loss'])\n",
        "plt.title('model loss')\n",
        "plt.ylabel('loss')\n",
        "plt.xlabel('epoch')\n",
        "plt.legend(['train', 'test'], loc='upper right')\n",
        "plt.show()"
      ],
      "execution_count": 59,
      "outputs": [
        {
          "output_type": "stream",
          "text": [
            "dict_keys(['loss', 'val_loss'])\n"
          ],
          "name": "stdout"
        },
        {
          "output_type": "display_data",
          "data": {
            "image/png": "[encoded data removed]",
            "text/plain": [
              "<Figure size 432x288 with 1 Axes>"
            ]
          },
          "metadata": {
            "tags": []
          }
        }
      ]
    },
    {
      "cell_type": "code",
      "metadata": {
        "id": "AQQV2AxxywsS",
        "colab_type": "code",
        "colab": {
          "base_uri": "https://localhost:8080/",
          "height": 71
        },
        "outputId": "4c61d6a3-3b50-4fed-aa16-6ea89343114c"
      },
      "source": [
        "test_input = array([[20,34],\n",
        "                    [23,39],\n",
        "                    [26,44]])\n",
        "\n",
        "test_input = test_input.reshape((1, 3, 2))\n",
        "test_output = model.predict(test_input, verbose=0)\n",
        "print(test_output)"
      ],
      "execution_count": 60,
      "outputs": [
        {
          "output_type": "stream",
          "text": [
            "WARNING:tensorflow:11 out of the last 11 calls to <function Model.make_predict_function.<locals>.predict_function at 0x7f20ae950730> triggered tf.function retracing. Tracing is expensive and the excessive number of tracings could be due to (1) creating @tf.function repeatedly in a loop, (2) passing tensors with different shapes, (3) passing Python objects instead of tensors. For (1), please define your @tf.function outside of the loop. For (2), @tf.function has experimental_relax_shapes=True option that relaxes argument shapes that can avoid unnecessary retracing. For (3), please refer to https://www.tensorflow.org/tutorials/customization/performance#python_or_tensor_args and https://www.tensorflow.org/api_docs/python/tf/function for  more details.\n",
            "[[29.255377 48.74049 ]]\n"
          ],
          "name": "stdout"
        }
      ]
    },
    {
      "cell_type": "code",
      "metadata": {
        "id": "7UUajXcJywzJ",
        "colab_type": "code",
        "colab": {}
      },
      "source": [
        "model = Sequential()\n",
        "model.add(LSTM(100, activation='relu', return_sequences=True, input_shape=(3, 2)))\n",
        "model.add(LSTM(50, activation='relu', return_sequences=True))\n",
        "model.add(LSTM(25, activation='relu'))\n",
        "model.add(Dense(10, activation='relu'))\n",
        "model.add(Dense(2))\n",
        "model.compile(optimizer='adam', loss='mse')"
      ],
      "execution_count": 61,
      "outputs": []
    },
    {
      "cell_type": "code",
      "metadata": {
        "id": "lrZAxgd3EvVh",
        "colab_type": "code",
        "colab": {}
      },
      "source": [
        "history = model.fit(X, Y, epochs=500, validation_split=0.2, verbose=False)"
      ],
      "execution_count": 62,
      "outputs": []
    },
    {
      "cell_type": "code",
      "metadata": {
        "id": "EI2vP1f7ywpb",
        "colab_type": "code",
        "colab": {
          "base_uri": "https://localhost:8080/",
          "height": 316
        },
        "outputId": "fcf6dc62-1b2f-454e-da7f-2b52119ebef5"
      },
      "source": [
        "# list all data in history\n",
        "print(history.history.keys())\n",
        "# summarize history for loss\n",
        "plt.plot(history.history['loss'])\n",
        "plt.plot(history.history['val_loss'])\n",
        "plt.title('model loss')\n",
        "plt.ylabel('loss')\n",
        "plt.xlabel('epoch')\n",
        "plt.legend(['train', 'test'], loc='upper right')\n",
        "plt.show()"
      ],
      "execution_count": 63,
      "outputs": [
        {
          "output_type": "stream",
          "text": [
            "dict_keys(['loss', 'val_loss'])\n"
          ],
          "name": "stdout"
        },
        {
          "output_type": "display_data",
          "data": {
            "image/png": "[encoded data removed]",
            "text/plain": [
              "<Figure size 432x288 with 1 Axes>"
            ]
          },
          "metadata": {
            "tags": []
          }
        }
      ]
    },
    {
      "cell_type": "code",
      "metadata": {
        "id": "8fV0Zzx4ywma",
        "colab_type": "code",
        "colab": {
          "base_uri": "https://localhost:8080/",
          "height": 71
        },
        "outputId": "5d92816d-8f99-43b2-9c58-703b76bed9b6"
      },
      "source": [
        "test_output = model.predict(test_input, verbose=0)\n",
        "print(test_output)"
      ],
      "execution_count": 64,
      "outputs": [
        {
          "output_type": "stream",
          "text": [
            "WARNING:tensorflow:11 out of the last 11 calls to <function Model.make_predict_function.<locals>.predict_function at 0x7f20b12c2400> triggered tf.function retracing. Tracing is expensive and the excessive number of tracings could be due to (1) creating @tf.function repeatedly in a loop, (2) passing tensors with different shapes, (3) passing Python objects instead of tensors. For (1), please define your @tf.function outside of the loop. For (2), @tf.function has experimental_relax_shapes=True option that relaxes argument shapes that can avoid unnecessary retracing. For (3), please refer to https://www.tensorflow.org/tutorials/customization/performance#python_or_tensor_args and https://www.tensorflow.org/api_docs/python/tf/function for  more details.\n",
            "[[29.152    48.561626]]\n"
          ],
          "name": "stdout"
        }
      ]
    },
    {
      "cell_type": "code",
      "metadata": {
        "id": "aCmVpRBoy47x",
        "colab_type": "code",
        "colab": {}
      },
      "source": [
        "model = Sequential()\n",
        "model.add(Bidirectional(LSTM(50, activation='relu'), input_shape=(3, 2)))\n",
        "model.add(Dense(2))\n",
        "model.compile(optimizer='adam', loss='mse')"
      ],
      "execution_count": 65,
      "outputs": []
    },
    {
      "cell_type": "code",
      "metadata": {
        "id": "WNuHZreay45K",
        "colab_type": "code",
        "colab": {}
      },
      "source": [
        "history = model.fit(X, Y, epochs=1000, validation_split=0.2, verbose=False)"
      ],
      "execution_count": 66,
      "outputs": []
    },
    {
      "cell_type": "code",
      "metadata": {
        "id": "6VUuzScoE72A",
        "colab_type": "code",
        "colab": {
          "base_uri": "https://localhost:8080/",
          "height": 316
        },
        "outputId": "c0bb2720-bc30-4c70-d84a-5709bbef7fe6"
      },
      "source": [
        "# list all data in history\n",
        "print(history.history.keys())\n",
        "# summarize history for loss\n",
        "plt.plot(history.history['loss'])\n",
        "plt.plot(history.history['val_loss'])\n",
        "plt.title('model loss')\n",
        "plt.ylabel('loss')\n",
        "plt.xlabel('epoch')\n",
        "plt.legend(['train', 'test'], loc='upper right')\n",
        "plt.show()"
      ],
      "execution_count": 67,
      "outputs": [
        {
          "output_type": "stream",
          "text": [
            "dict_keys(['loss', 'val_loss'])\n"
          ],
          "name": "stdout"
        },
        {
          "output_type": "display_data",
          "data": {
            "image/png": "[encoded data removed]",
            "text/plain": [
              "<Figure size 432x288 with 1 Axes>"
            ]
          },
          "metadata": {
            "tags": []
          }
        }
      ]
    },
    {
      "cell_type": "code",
      "metadata": {
        "id": "V8OC36bSy41T",
        "colab_type": "code",
        "colab": {
          "base_uri": "https://localhost:8080/",
          "height": 71
        },
        "outputId": "42ac16fe-d1e3-4220-ac96-408812ea13d0"
      },
      "source": [
        "test_output = model.predict(test_input, verbose=0)\n",
        "print(test_output)"
      ],
      "execution_count": 68,
      "outputs": [
        {
          "output_type": "stream",
          "text": [
            "WARNING:tensorflow:11 out of the last 11 calls to <function Model.make_predict_function.<locals>.predict_function at 0x7f20a821eb70> triggered tf.function retracing. Tracing is expensive and the excessive number of tracings could be due to (1) creating @tf.function repeatedly in a loop, (2) passing tensors with different shapes, (3) passing Python objects instead of tensors. For (1), please define your @tf.function outside of the loop. For (2), @tf.function has experimental_relax_shapes=True option that relaxes argument shapes that can avoid unnecessary retracing. For (3), please refer to https://www.tensorflow.org/tutorials/customization/performance#python_or_tensor_args and https://www.tensorflow.org/api_docs/python/tf/function for  more details.\n",
            "[[29.375978 48.919857]]\n"
          ],
          "name": "stdout"
        }
      ]
    },
    {
      "cell_type": "code",
      "metadata": {
        "id": "Aey-FaClsaHN",
        "colab_type": "code",
        "colab": {}
      },
      "source": [
        ""
      ],
      "execution_count": 68,
      "outputs": []
    }
  ]
}